{
 "cells": [
  {
   "cell_type": "markdown",
   "metadata": {
    "deletable": true,
    "editable": true
   },
   "source": [
    "### TODO:\n",
    "- Remove data where corr is low or aggregate has same value over and over (use new tupes functions).\n",
    "- Update modeling code to account for counts.\n",
    "- Explore situations where count is not correlated with energy.\n",
    "- Generator flexible for # apps (make wrapper for current one).\n",
    "- Scale output variables if there are more than one (or just do it always).\n",
    "- Bayesian opt for hyperparameter selection.\n",
    "- Try deeper models.\n",
    "- Look at where model is getting things wrong. Make function that plots largest/pathological errors.\n",
    "- Look at LBM paper for error.\n",
    "- Try using scaling function instead of scaler - more flexibility.\n",
    "\n",
    "### Done/dismissed:\n",
    "- Try demeaning all series? - doesn't work well.\n",
    "- Why do plots have such different proportions of houses? - because three homes have data for *all* time periods.\n",
    "- Changed kettle on_power_threshold to 1500 (from 2000) since it wasn't catching activations for house 3.\n",
    "- Figure out why house 3/5/20 has inverse fridge pattern. - not sure but can look into it later"
   ]
  },
  {
   "cell_type": "code",
   "execution_count": 26,
   "metadata": {
    "collapsed": false,
    "deletable": true,
    "editable": true
   },
   "outputs": [],
   "source": [
    "from __future__ import division\n",
    "\n",
    "from utils import *\n",
    "from create_data import *\n",
    "from build_models import *\n",
    "\n",
    "import os\n",
    "import sys\n",
    "import pandas as pd\n",
    "import numpy as np\n",
    "from collections import OrderedDict\n",
    "import time\n",
    "from datetime import datetime, date, timedelta\n",
    "from dateutil.parser import parse\n",
    "import re\n",
    "\n",
    "import matplotlib.pyplot as plt\n",
    "import matplotlib\n",
    "import seaborn as sns\n",
    "# from ggplot import *\n",
    "\n",
    "import keras\n",
    "from keras import backend as K\n",
    "from keras.models import Sequential, load_model\n",
    "from keras.layers import Dense, Activation, Conv1D, MaxPooling1D, Flatten, Dropout, BatchNormalization\n",
    "from keras.callbacks import EarlyStopping, CSVLogger, ModelCheckpoint, LambdaCallback\n",
    "from keras.utils import plot_model\n",
    "from keras import regularizers\n",
    "\n",
    "from sklearn.utils import shuffle\n",
    "from sklearn.preprocessing import StandardScaler\n",
    "from sklearn.model_selection import train_test_split\n",
    "\n",
    "%matplotlib inline\n",
    "matplotlib.style.use('ggplot')"
   ]
  },
  {
   "cell_type": "code",
   "execution_count": 2,
   "metadata": {
    "collapsed": false,
    "deletable": true,
    "editable": true
   },
   "outputs": [],
   "source": [
    "dir_proj = '/Users/sipola/Google Drive/education/coursework/graduate/edinburgh/dissertation/thesis'\n",
    "dir_data = os.path.join(dir_proj, 'data')\n",
    "dir_for_model = os.path.join(dir_data, 'for_model')\n",
    "dir_for_model_real = os.path.join(dir_for_model, 'real')\n",
    "dir_for_model_synth = os.path.join(dir_for_model, 'synthetic')\n",
    "dir_models = os.path.join(dir_data, 'models')\n",
    "dir_run = os.path.join(dir_proj, 'run', str(date.today()))\n",
    "path_daily_stats = os.path.join(dir_data, 'stats_by_day.pkl')"
   ]
  },
  {
   "cell_type": "code",
   "execution_count": 3,
   "metadata": {
    "collapsed": false,
    "deletable": true,
    "editable": true
   },
   "outputs": [],
   "source": [
    "N_PER_DAY = 14400  # 24 * 60 * 60 / 6\n",
    "HOUSE_IDS = range(1, 22); HOUSE_IDS.remove(14)  # no house 14\n",
    "HOUSE_IDS_TEST = [2,9,20]\n",
    "HOUSE_IDS_TRAIN_VAL = [house_id for house_id in HOUSE_IDS if house_id not in HOUSE_IDS_TEST]\n",
    "# HOUSE_IDS_SOLAR = [3,11,21]  # according to paper\n",
    "HOUSE_IDS_SOLAR = [1,11,21]  # according to inspection\n",
    "HOUSE_IDS_NOT_SOLAR = [house_id for house_id in HOUSE_IDS if house_id not in HOUSE_IDS_SOLAR]\n",
    "# TRAIN_VAL_DATE_MAX = date(2015,2,28)\n",
    "APP_NAMES = ['fridge', 'kettle', 'washing machine', 'dishwasher', 'microwave']\n",
    "TRAIN_DTS = np.load(os.path.join(dir_for_model_synth, 'train_dts.npy'))"
   ]
  },
  {
   "cell_type": "code",
   "execution_count": 4,
   "metadata": {
    "collapsed": false,
    "deletable": true,
    "editable": true
   },
   "outputs": [],
   "source": [
    "take_diff = False\n",
    "# val_prop = 0.2\n",
    "train_dates = [dt.date() for dt in TRAIN_DTS]\n",
    "extreme_percentile_cutoff = 100"
   ]
  },
  {
   "cell_type": "code",
   "execution_count": 57,
   "metadata": {
    "collapsed": true,
    "deletable": true,
    "editable": true
   },
   "outputs": [],
   "source": [
    "# In every set of data, there's a feature set X, targets Y, and extra features\n",
    "# regarding house number and date that can be used to subset or diagnose.\n",
    "# This data will be saved as a package according to the order below. This makes\n",
    "# it easier to enter into functions like train_test_split() and shuffle() using\n",
    "# *kwargs.\n",
    "X_idx, Y1_idx, Y2_idx, x_house_idx, x_date_idx = range(5)\n",
    "Y_energy_idx = Y1_idx\n",
    "Y_activations_idx = Y2_idx"
   ]
  },
  {
   "cell_type": "markdown",
   "metadata": {
    "deletable": true,
    "editable": true
   },
   "source": [
    "Run this once"
   ]
  },
  {
   "cell_type": "code",
   "execution_count": 6,
   "metadata": {
    "collapsed": false,
    "deletable": true,
    "editable": true
   },
   "outputs": [],
   "source": [
    "dstats = pd.read_pickle(path_daily_stats)\n",
    "dstats = clean_daily_stats(dstats, is_debug=False)"
   ]
  },
  {
   "cell_type": "code",
   "execution_count": 8,
   "metadata": {
    "collapsed": false,
    "deletable": true,
    "editable": true
   },
   "outputs": [],
   "source": [
    "# # Find obs where agg signal doesn't match with sum of apps.\n",
    "# dir_real_new = '/Users/sipola/Google Drive/education/coursework/graduate/edinburgh/dissertation/thesis/run/2017-06-29/real'\n",
    "\n",
    "# X = np.load(os.path.join(dir_real_new, 'X.npy'))\n",
    "# Y1 = np.load(os.path.join(dir_real_new, 'Y1.npy'))\n",
    "# Y2 = np.load(os.path.join(dir_real_new, 'Y2.npy'))\n",
    "# x_house = np.load(os.path.join(dir_real_new, 'x_house.npy'))\n",
    "# x_date = np.load(os.path.join(dir_real_new, 'x_date.npy'))\n",
    "\n",
    "# real_data = X, Y1, Y2, x_house, x_date"
   ]
  },
  {
   "cell_type": "code",
   "execution_count": 53,
   "metadata": {
    "collapsed": false,
    "deletable": true,
    "editable": true
   },
   "outputs": [
    {
     "name": "stdout",
     "output_type": "stream",
     "text": [
      "processing real data...\n",
      "removing extreme values...\n",
      "removing homes with solar panels...\n",
      "remove obs where correlation between main and sum of apps is low\n",
      "removed 15 obs (0.21% of total) for low correlation b/t main and sum of apps\n",
      "remove obs where agg value is repeated\n",
      "removed 86 obs (1.2% of total) for low correlation b/t main and sum of apps\n",
      "splitting into training, validation and test data...\n",
      "obs for train/val: 4960 (71% of total)\n"
     ]
    }
   ],
   "source": [
    "np.random.seed(20170627)\n",
    "\n",
    "# Process real data.\n",
    "\n",
    "print 'processing real data...'\n",
    "all_data = OrderedDict()\n",
    "all_data['real'] = list(load_real_data(dir_for_model_real))  # as list so can alter elements\n",
    "\n",
    "print 'removing extreme values...'\n",
    "for idx in [Y1_idx, Y2_idx]:\n",
    "    all_data['real'] = remove_extremes(all_data['real'], extreme_percentile_cutoff, idx)\n",
    "\n",
    "print 'removing homes with solar panels...'\n",
    "all_data = remove_solar_from_real(all_data, HOUSE_IDS_SOLAR, x_house_idx)\n",
    "\n",
    "# Do this after solar to see if it really makes a difference since corr is low w/ solar houses.\n",
    "print 'remove obs where correlation between main and sum of apps is low'\n",
    "corr_tups = get_bad_data_tups(dstats, dstats['SumToMainCorr'] < 0.1)\n",
    "all_data['real'] = remove_tups(all_data['real'], corr_tups, x_house_idx, x_date_idx)\n",
    "\n",
    "print 'remove obs where agg value is repeated'\n",
    "repeat_cond = dstats[('Appliance0', 'prop_unchanging_large_value')] > 0.1\n",
    "corr_tups = get_bad_data_tups(dstats, repeat_cond)\n",
    "all_data['real'] = remove_tups(all_data['real'], corr_tups, x_house_idx, x_date_idx)\n",
    "\n",
    "print 'splitting into training, validation and test data...'\n",
    "all_data = split_real_into_train_and_valtest(all_data, HOUSE_IDS_TRAIN_VAL, train_dates,\n",
    "                                             x_house_idx, x_date_idx)\n",
    "all_data = split_valtest_into_val_and_test(all_data, x_house_idx)"
   ]
  },
  {
   "cell_type": "code",
   "execution_count": 54,
   "metadata": {
    "collapsed": false,
    "deletable": true,
    "editable": true
   },
   "outputs": [
    {
     "name": "stdout",
     "output_type": "stream",
     "text": [
      "loading synthetic data...\n",
      "removing extreme values...\n",
      "creating scalers...\n",
      "scaling validation and test data...\n"
     ]
    }
   ],
   "source": [
    "# Process synthetic data.\n",
    "\n",
    "print 'loading synthetic data...'\n",
    "all_data['synth_train_all'] = list(load_synth_data(dir_for_model_synth))\n",
    "\n",
    "print 'removing extreme values...'\n",
    "for idx in [Y1_idx, Y2_idx]:\n",
    "    all_data['synth_train_all'] = remove_extremes(all_data['synth_train_all'], extreme_percentile_cutoff, idx)\n",
    "\n",
    "# Want to take diffs before making scalers.\n",
    "if take_diff:\n",
    "    print 'taking diffs...'\n",
    "    for key in all_data.keys():\n",
    "        all_data[key][X_idx] = take_diff_df(all_data[key][X_idx])\n",
    "\n",
    "print 'creating scalers...'\n",
    "scaler_real, scaler_synth, scaler_both = create_scalers_for_real_synth_both(all_data, X_idx)\n",
    "\n",
    "print 'scaling validation and test data...'\n",
    "for split_type in ['val', 'test']:\n",
    "    all_data[split_type][X_idx] = scaler_real.transform(all_data[split_type][X_idx])\n",
    "    all_data[split_type][X_idx] = scaler_both.transform(all_data[split_type][X_idx])"
   ]
  },
  {
   "cell_type": "code",
   "execution_count": 55,
   "metadata": {
    "collapsed": false,
    "deletable": true,
    "editable": true
   },
   "outputs": [],
   "source": [
    "# Extract val/test data for easy reference.\n",
    "val_data = list(all_data['val'])\n",
    "test_data = list(all_data['test'])"
   ]
  },
  {
   "cell_type": "code",
   "execution_count": 58,
   "metadata": {
    "collapsed": false,
    "deletable": true,
    "editable": true
   },
   "outputs": [],
   "source": [
    "# Get index of type of variable to model and appliance to model.\n",
    "target_type = 'activation'  # 'energy' or 'activation'\n",
    "app_names = ['washing machine']\n",
    "# app_names = list(APP_NAMES)\n",
    "\n",
    "Y_idx = Y_energy_idx if target_type=='energy' else Y_activations_idx\n",
    "\n",
    "app_idx = []\n",
    "for app_name in app_names:\n",
    "    app_idx.append(APP_NAMES.index(app_name))"
   ]
  },
  {
   "cell_type": "code",
   "execution_count": 59,
   "metadata": {
    "collapsed": false,
    "deletable": true,
    "editable": true
   },
   "outputs": [],
   "source": [
    "# model_name = 'pilot_model_tmp'\n",
    "\n",
    "def create_model(\n",
    "    num_outputs,\n",
    "    output_layer_activation,\n",
    "    num_conv_layers,\n",
    "    num_dense_layers,\n",
    "    start_filters,\n",
    "    deepen_filters,\n",
    "    kernel_size,\n",
    "    strides,\n",
    "    dilation_rate,\n",
    "    do_pool,\n",
    "    pool_size,\n",
    "    last_dense_layer_size,\n",
    "    dropout_rate_after_conv,\n",
    "    dropout_rate_after_dense,\n",
    "    use_batch_norm,\n",
    "    optimizer,\n",
    "    learning_rate,\n",
    "    l2_penalty\n",
    "):\n",
    "    \n",
    "    if dilation_rate > 1:\n",
    "        # Make dilation rate override stride length.\n",
    "        strides = 1\n",
    "    \n",
    "    if strides > kernel_size:\n",
    "        strides = kernel_size\n",
    "    \n",
    "    if not do_pool:\n",
    "        pool_size = None\n",
    "        \n",
    "    if num_dense_layers == 0:\n",
    "        last_dense_layer_size == None\n",
    "        \n",
    "    assert not (dilation_rate != 1 and strides != 1)\n",
    "\n",
    "    kernel_regularizer = regularizers.l2(l2_penalty)\n",
    "    input_shape = (N_PER_DAY, 1) if K.image_data_format() == 'channels_last' else (1, N_PER_DAY)\n",
    "\n",
    "    model = Sequential()\n",
    "    \n",
    "    # Add convolutional layers.\n",
    "    for layer_num in range(num_conv_layers):\n",
    "        \n",
    "        filter_multiplier = 2**layer_num if deepen_filters else 1\n",
    "        filters = start_filters * filter_multiplier\n",
    "        \n",
    "        conv_args = {'filters': filters,\n",
    "                     'kernel_size': kernel_size,\n",
    "                     'strides': strides,\n",
    "                     'padding': 'same',\n",
    "                     'dilation_rate': dilation_rate,\n",
    "                     'activation': 'relu',\n",
    "                     'name': 'conv_{}'.format(layer_num),\n",
    "                     'kernel_regularizer': kernel_regularizer}\n",
    "        if layer_num == 0:\n",
    "            # Need input shape if first layer.\n",
    "            conv_args['input_shape'] = input_shape\n",
    "        \n",
    "        model.add(Conv1D(**conv_args))\n",
    "        \n",
    "        if do_pool:\n",
    "            model.add(MaxPooling1D(pool_size, padding='same', name='pool_{}'.format(layer_num)))\n",
    "    \n",
    "    model.add(Dropout(dropout_rate_after_conv, name='dropout_after_conv'))\n",
    "    model.add(Flatten(name='flatten'))\n",
    "    \n",
    "    # Add dense layers.\n",
    "    for layer_num in range(num_dense_layers):\n",
    "        layer_size = last_dense_layer_size * 2**(num_dense_layers - layer_num - 1)\n",
    "        model.add(Dense(layer_size, activation='relu',\n",
    "                        kernel_regularizer=kernel_regularizer, name='dense_{}'.format(layer_num)))\n",
    "        model.add(Dropout(dropout_rate_after_dense, name='dropout_dense_{}'.format(layer_num)))\n",
    "        if use_batch_norm:\n",
    "            model.add(BatchNormalization(name='batch_norm_{}'.format(layer_num)))\n",
    "    \n",
    "    model.add(Dense(num_outputs, activation=output_layer_activation, name='dense_output',\n",
    "                    kernel_regularizer=kernel_regularizer))\n",
    "    \n",
    "    model.compile(loss='mean_squared_error',\n",
    "                  # optimizer='adam',\n",
    "                  optimizer = optimizer(lr=learning_rate),\n",
    "                  metrics=None)\n",
    "    \n",
    "    return model"
   ]
  },
  {
   "cell_type": "code",
   "execution_count": 60,
   "metadata": {
    "collapsed": true,
    "deletable": true,
    "editable": true
   },
   "outputs": [],
   "source": [
    "batch_size = 32\n",
    "real_to_synth_ratio = 0.5"
   ]
  },
  {
   "cell_type": "code",
   "execution_count": 61,
   "metadata": {
    "collapsed": false,
    "deletable": true,
    "editable": true
   },
   "outputs": [],
   "source": [
    "generator = generate_data((all_data['real_train'][X_idx], all_data['real_train'][Y_idx][:,app_idx]),\n",
    "                          (all_data['synth_train_all'][X_idx], all_data['synth_train_all'][Y_idx][:,app_idx]),\n",
    "                          scaler_real, scaler_synth, scaler_both,\n",
    "                          batch_size = batch_size,\n",
    "                          real_to_synth_ratio = real_to_synth_ratio)"
   ]
  },
  {
   "cell_type": "code",
   "execution_count": 62,
   "metadata": {
    "collapsed": false,
    "deletable": true,
    "editable": true
   },
   "outputs": [
    {
     "name": "stdout",
     "output_type": "stream",
     "text": [
      "shuffling...\n",
      "scaling real data...\n",
      "scaling synthetic data...\n",
      "scaling real and synthetic data jointly...\n"
     ]
    }
   ],
   "source": [
    "_ = generator.next()  # optional; just initializes the generator"
   ]
  },
  {
   "cell_type": "code",
   "execution_count": 48,
   "metadata": {
    "collapsed": false,
    "deletable": true,
    "editable": true
   },
   "outputs": [],
   "source": [
    "# plot_model(model)  # https://keras.io/visualization/"
   ]
  },
  {
   "cell_type": "code",
   "execution_count": 63,
   "metadata": {
    "collapsed": true,
    "deletable": true,
    "editable": true
   },
   "outputs": [],
   "source": [
    "# model_set_name = str(date.today())\n",
    "modeling_group_name = 'after_data_clean_for_real'"
   ]
  },
  {
   "cell_type": "code",
   "execution_count": null,
   "metadata": {
    "collapsed": false,
    "deletable": true,
    "editable": true
   },
   "outputs": [
    {
     "name": "stdout",
     "output_type": "stream",
     "text": [
      "=========================\n",
      "first_run_after_data_clean_with_relu\n",
      "=========================\n",
      "                                                        0\n",
      "optimizer                 <class 'keras.optimizers.Adam'>\n",
      "num_dense_layers                                        2\n",
      "do_pool                                              True\n",
      "num_conv_layers                                         3\n",
      "learning_rate                                      0.0003\n",
      "last_dense_layer_size                                  16\n",
      "deepen_filters                                       True\n",
      "dropout_rate_after_dense                              0.5\n",
      "pool_size                                               2\n",
      "strides                                                 2\n",
      "dilation_rate                                           1\n",
      "start_filters                                           4\n",
      "use_batch_norm                                      False\n",
      "l2_penalty                                              0\n",
      "dropout_rate_after_conv                              0.25\n",
      "kernel_size                                             6\n",
      "\n",
      "=========================\n",
      "\n",
      "Epoch 00000: val_loss improved from inf to 0.68228, saving model to /Users/sipola/Google Drive/education/coursework/graduate/edinburgh/dissertation/thesis/data/models/after_data_clean_for_real/activation/washingmachine/first_run_after_data_clean_with_relu/weights.hdf5\n",
      "Epoch 00001: val_loss did not improve\n",
      "Epoch 00002: val_loss improved from 0.68228 to 0.67271, saving model to /Users/sipola/Google Drive/education/coursework/graduate/edinburgh/dissertation/thesis/data/models/after_data_clean_for_real/activation/washingmachine/first_run_after_data_clean_with_relu/weights.hdf5\n",
      "Epoch 00003: val_loss did not improve\n",
      "Epoch 00004: val_loss improved from 0.67271 to 0.66065, saving model to /Users/sipola/Google Drive/education/coursework/graduate/edinburgh/dissertation/thesis/data/models/after_data_clean_for_real/activation/washingmachine/first_run_after_data_clean_with_relu/weights.hdf5\n",
      "Epoch 00005: val_loss did not improve\n"
     ]
    }
   ],
   "source": [
    "continue_from_last_run = True\n",
    "models_to_run = 1\n",
    "epochs = 100\n",
    "# total_obs_per_epoch = 4096\n",
    "total_obs_per_epoch = 8192\n",
    "# total_obs_per_epoch = 256\n",
    "\n",
    "steps_per_epoch = total_obs_per_epoch // batch_size\n",
    "dir_models_set = os.path.join(dir_models, modeling_group_name, target_type, app_names_to_filename(app_names))\n",
    "\n",
    "# \"Append\" results to last runs of models, if they exist?\n",
    "if continue_from_last_run:\n",
    "    # Get max model number.\n",
    "    try:\n",
    "        model_files = os.listdir(dir_models_set)\n",
    "        max_model_num = -1\n",
    "        for model_file in model_files:\n",
    "            try:\n",
    "                max_model_num = max(int(re.sub('model_', '', model_file)), max_model_num)\n",
    "            except ValueError:\n",
    "                pass\n",
    "        max_model_num += 1\n",
    "    except OSError:\n",
    "        max_model_num = 0\n",
    "else:\n",
    "    max_model_num = 0\n",
    "\n",
    "for model_num in np.arange(models_to_run) + max_model_num:\n",
    "    \n",
    "    # model_name = 'model_{}'.format(model_num)\n",
    "    model_name = 'first_run_after_data_clean_with_relu'\n",
    "    print '='*25 + '\\n{}\\n'.format(model_name) + '='*25\n",
    "\n",
    "    params = {\n",
    "        'num_conv_layers': 3,\n",
    "        'num_dense_layers': 2,\n",
    "        'start_filters': 4,\n",
    "        'deepen_filters': True,\n",
    "        'kernel_size': 6,\n",
    "        'strides': 2,\n",
    "        'dilation_rate': 1,\n",
    "        'do_pool': True,\n",
    "        'pool_size': 2,\n",
    "        'last_dense_layer_size': 16,\n",
    "        'dropout_rate_after_conv': 0.25,\n",
    "        'dropout_rate_after_dense': 0.5,\n",
    "        'use_batch_norm': False,\n",
    "        'optimizer': keras.optimizers.Adam,\n",
    "        'learning_rate': 0.0003,\n",
    "        'l2_penalty': 0\n",
    "    }\n",
    "    # params = random_params()\n",
    "\n",
    "    print pd.DataFrame.from_dict(params, orient='index')\n",
    "    print '\\n' + '='*25 + '\\n'\n",
    "\n",
    "    output_layer_activation = 'relu' if target_type=='energy' else 'relu'  #########################\n",
    "    model = create_model(len(app_names), output_layer_activation, **params)\n",
    "\n",
    "    dir_this_model = os.path.join(dir_models_set, model_name)\n",
    "    model_filename = os.path.join(dir_this_model, 'weights.hdf5')\n",
    "    history_filename = os.path.join(dir_this_model, 'history.csv')\n",
    "    params_filename = os.path.join(dir_this_model, 'params.csv')\n",
    "    makedirs2(dir_this_model)\n",
    "\n",
    "    pd.DataFrame.from_dict(params, orient='index').to_csv(params_filename, header=False)\n",
    "\n",
    "    # Define callbacks\n",
    "    # https://keras.io/callbacks\n",
    "    early_stopping = EarlyStopping(monitor='val_loss', patience=5)\n",
    "    csvlogger = CSVLogger(history_filename, separator=',', append=False)\n",
    "    checkpointer = ModelCheckpoint(filepath=model_filename, verbose=1, save_best_only=True)\n",
    "    runtime_history = RuntimeHistory()\n",
    "\n",
    "    history = model.fit_generator(generator,\n",
    "                                  steps_per_epoch = steps_per_epoch,\n",
    "                                  epochs = epochs,\n",
    "                                  validation_data=(reshape_as_tensor(all_data['val'][X_idx]),\n",
    "                                                   all_data['val'][Y_idx][:,app_idx]),\n",
    "                                  callbacks = [early_stopping, csvlogger, checkpointer, runtime_history],\n",
    "                                  verbose = 0)\n",
    "\n",
    "    # Add runtimes to CSV.\n",
    "    history_df = pd.read_csv(history_filename)\n",
    "    history_df['runtime'] = runtime_history.runtime\n",
    "    history_df.to_csv(history_filename, index=False)\n",
    "\n",
    "    # Load best model.\n",
    "    model_filename = os.path.join(dir_this_model, 'weights.hdf5')\n",
    "    model = load_model(model_filename)\n",
    "\n",
    "    plot_errors(history_df)\n",
    "    plt.show()"
   ]
  },
  {
   "cell_type": "code",
   "execution_count": 34,
   "metadata": {
    "collapsed": false,
    "deletable": true,
    "editable": true
   },
   "outputs": [
    {
     "name": "stderr",
     "output_type": "stream",
     "text": [
      "/Users/sipola/miniconda2/lib/python2.7/site-packages/pandas/tools/merge.py:536: UserWarning: merging between different levels can give an unintended result (1 levels on the left, 2 on the right)\n",
      "  warnings.warn(msg, UserWarning)\n"
     ]
    },
    {
     "data": {
      "text/html": [
       "<div>\n",
       "<table border=\"1\" class=\"dataframe\">\n",
       "  <thead>\n",
       "    <tr style=\"text-align: right;\">\n",
       "      <th></th>\n",
       "      <th>loss</th>\n",
       "      <th>epoch</th>\n",
       "      <th>runtime</th>\n",
       "      <th>val_loss</th>\n",
       "      <th>(value, deepen_filters)</th>\n",
       "      <th>(value, dilation_rate)</th>\n",
       "      <th>(value, do_pool)</th>\n",
       "      <th>(value, dropout_rate_after_conv)</th>\n",
       "      <th>(value, dropout_rate_after_dense)</th>\n",
       "      <th>(value, kernel_size)</th>\n",
       "      <th>(value, l2_penalty)</th>\n",
       "      <th>(value, last_dense_layer_size)</th>\n",
       "      <th>(value, learning_rate)</th>\n",
       "      <th>(value, num_conv_layers)</th>\n",
       "      <th>(value, num_dense_layers)</th>\n",
       "      <th>(value, optimizer)</th>\n",
       "      <th>(value, pool_size)</th>\n",
       "      <th>(value, start_filters)</th>\n",
       "      <th>(value, strides)</th>\n",
       "      <th>(value, use_batch_norm)</th>\n",
       "    </tr>\n",
       "    <tr>\n",
       "      <th>model</th>\n",
       "      <th></th>\n",
       "      <th></th>\n",
       "      <th></th>\n",
       "      <th></th>\n",
       "      <th></th>\n",
       "      <th></th>\n",
       "      <th></th>\n",
       "      <th></th>\n",
       "      <th></th>\n",
       "      <th></th>\n",
       "      <th></th>\n",
       "      <th></th>\n",
       "      <th></th>\n",
       "      <th></th>\n",
       "      <th></th>\n",
       "      <th></th>\n",
       "      <th></th>\n",
       "      <th></th>\n",
       "      <th></th>\n",
       "      <th></th>\n",
       "    </tr>\n",
       "  </thead>\n",
       "  <tbody>\n",
       "    <tr>\n",
       "      <th>first_run_after_data_clean_with_relu</th>\n",
       "      <td>0.130284</td>\n",
       "      <td>43</td>\n",
       "      <td>22.797965</td>\n",
       "      <td>0.166634</td>\n",
       "      <td>True</td>\n",
       "      <td>1</td>\n",
       "      <td>True</td>\n",
       "      <td>0.25</td>\n",
       "      <td>0.5</td>\n",
       "      <td>6</td>\n",
       "      <td>0</td>\n",
       "      <td>16</td>\n",
       "      <td>0.0003</td>\n",
       "      <td>3</td>\n",
       "      <td>2</td>\n",
       "      <td>&lt;class 'keras.optimizers.Adam'&gt;</td>\n",
       "      <td>2</td>\n",
       "      <td>4</td>\n",
       "      <td>2</td>\n",
       "      <td>False</td>\n",
       "    </tr>\n",
       "    <tr>\n",
       "      <th>first_run_after_data_clean</th>\n",
       "      <td>0.146567</td>\n",
       "      <td>32</td>\n",
       "      <td>22.701556</td>\n",
       "      <td>0.188108</td>\n",
       "      <td>True</td>\n",
       "      <td>1</td>\n",
       "      <td>True</td>\n",
       "      <td>0.25</td>\n",
       "      <td>0.5</td>\n",
       "      <td>6</td>\n",
       "      <td>0</td>\n",
       "      <td>16</td>\n",
       "      <td>0.0003</td>\n",
       "      <td>3</td>\n",
       "      <td>2</td>\n",
       "      <td>&lt;class 'keras.optimizers.Adam'&gt;</td>\n",
       "      <td>2</td>\n",
       "      <td>4</td>\n",
       "      <td>2</td>\n",
       "      <td>False</td>\n",
       "    </tr>\n",
       "  </tbody>\n",
       "</table>\n",
       "</div>"
      ],
      "text/plain": [
       "                                          loss  epoch    runtime  val_loss  \\\n",
       "model                                                                        \n",
       "first_run_after_data_clean_with_relu  0.130284     43  22.797965  0.166634   \n",
       "first_run_after_data_clean            0.146567     32  22.701556  0.188108   \n",
       "\n",
       "                                     (value, deepen_filters)  \\\n",
       "model                                                          \n",
       "first_run_after_data_clean_with_relu                    True   \n",
       "first_run_after_data_clean                              True   \n",
       "\n",
       "                                     (value, dilation_rate) (value, do_pool)  \\\n",
       "model                                                                          \n",
       "first_run_after_data_clean_with_relu                      1             True   \n",
       "first_run_after_data_clean                                1             True   \n",
       "\n",
       "                                     (value, dropout_rate_after_conv)  \\\n",
       "model                                                                   \n",
       "first_run_after_data_clean_with_relu                             0.25   \n",
       "first_run_after_data_clean                                       0.25   \n",
       "\n",
       "                                     (value, dropout_rate_after_dense)  \\\n",
       "model                                                                    \n",
       "first_run_after_data_clean_with_relu                               0.5   \n",
       "first_run_after_data_clean                                         0.5   \n",
       "\n",
       "                                     (value, kernel_size) (value, l2_penalty)  \\\n",
       "model                                                                           \n",
       "first_run_after_data_clean_with_relu                    6                   0   \n",
       "first_run_after_data_clean                              6                   0   \n",
       "\n",
       "                                     (value, last_dense_layer_size)  \\\n",
       "model                                                                 \n",
       "first_run_after_data_clean_with_relu                             16   \n",
       "first_run_after_data_clean                                       16   \n",
       "\n",
       "                                     (value, learning_rate)  \\\n",
       "model                                                         \n",
       "first_run_after_data_clean_with_relu                 0.0003   \n",
       "first_run_after_data_clean                           0.0003   \n",
       "\n",
       "                                     (value, num_conv_layers)  \\\n",
       "model                                                           \n",
       "first_run_after_data_clean_with_relu                        3   \n",
       "first_run_after_data_clean                                  3   \n",
       "\n",
       "                                     (value, num_dense_layers)  \\\n",
       "model                                                            \n",
       "first_run_after_data_clean_with_relu                         2   \n",
       "first_run_after_data_clean                                   2   \n",
       "\n",
       "                                                   (value, optimizer)  \\\n",
       "model                                                                   \n",
       "first_run_after_data_clean_with_relu  <class 'keras.optimizers.Adam'>   \n",
       "first_run_after_data_clean            <class 'keras.optimizers.Adam'>   \n",
       "\n",
       "                                     (value, pool_size)  \\\n",
       "model                                                     \n",
       "first_run_after_data_clean_with_relu                  2   \n",
       "first_run_after_data_clean                            2   \n",
       "\n",
       "                                     (value, start_filters) (value, strides)  \\\n",
       "model                                                                          \n",
       "first_run_after_data_clean_with_relu                      4                2   \n",
       "first_run_after_data_clean                                4                2   \n",
       "\n",
       "                                     (value, use_batch_norm)  \n",
       "model                                                         \n",
       "first_run_after_data_clean_with_relu                   False  \n",
       "first_run_after_data_clean                             False  "
      ]
     },
     "execution_count": 34,
     "metadata": {},
     "output_type": "execute_result"
    }
   ],
   "source": [
    "modeling_group_name = 'after_data_clean'\n",
    "target_type = 'energy'\n",
    "app_names = ['washing machine']\n",
    "# app_names = list(APP_NAMES)\n",
    "\n",
    "Y_idx = Y_energy_idx if target_type=='energy' else Y_activation_idx\n",
    "\n",
    "app_idx = []\n",
    "for app_name in app_names:\n",
    "    app_idx.append(APP_NAMES.index(app_name))\n",
    "\n",
    "dir_models_set = os.path.join(dir_models, modeling_group_name, target_type, app_names_to_filename(app_names))\n",
    "model_files = get_model_files(dir_models_set)\n",
    "\n",
    "history_all = []\n",
    "params_all = []\n",
    "\n",
    "for model_name in model_files:\n",
    "    \n",
    "    history_df = pd.read_csv(os.path.join(dir_models_set, model_name, 'history.csv'))\n",
    "    params_df = pd.read_csv(os.path.join(dir_models_set, model_name, 'params.csv'),\n",
    "                            header=None,\n",
    "                            names=['param', 'value'])\n",
    "    \n",
    "    history_df['model'] = model_name\n",
    "    params_df['model'] = model_name    \n",
    "    \n",
    "    history_all.append(history_df)\n",
    "    params_all.append(params_df)\n",
    "    \n",
    "    # print model_name\n",
    "    # print params_df\n",
    "\n",
    "    # plot_errors(history_df, figsize=(11,5))\n",
    "    # plt.show()\n",
    "    \n",
    "params_all = pd.concat(params_all)\n",
    "history_all = pd.concat(history_all)\n",
    "\n",
    "# print all_history\n",
    "params_wide = params_all.pivot(index='model', columns='param')\n",
    "history_best = history_all.groupby('model').agg({\n",
    "    'loss': min,\n",
    "    'val_loss': min,\n",
    "    'runtime': min,\n",
    "    'epoch': lambda x: len(x)\n",
    "})\n",
    "\n",
    "hist_and_params = history_best.join(params_wide)\n",
    "\n",
    "hist_and_params.sort_values('val_loss', inplace=True)\n",
    "# hist_and_params.to_csv('tmp.csv')\n",
    "\n",
    "hist_and_params\n",
    "# print params_all"
   ]
  },
  {
   "cell_type": "code",
   "execution_count": 42,
   "metadata": {
    "collapsed": false,
    "deletable": true,
    "editable": true
   },
   "outputs": [],
   "source": [
    "# Load best model\n",
    "best_model_name = hist_and_params.loc[hist_and_params['loss']==hist_and_params['loss'].min()].index.values[0]\n",
    "model = load_model(os.path.join(dir_models_set, best_model_name, 'weights.hdf5'))\n",
    "# model = load_model('/Users/sipola/Google Drive/education/coursework/graduate/edinburgh/dissertation/thesis/data/models/2017-06-28/fridge/model_11/weights.hdf5')"
   ]
  },
  {
   "cell_type": "code",
   "execution_count": 24,
   "metadata": {
    "collapsed": false,
    "deletable": true,
    "editable": true
   },
   "outputs": [
    {
     "data": {
      "text/plain": [
       "array([ 0.49926389,  0.72525611,  0.74819528, ...,  0.87442278,\n",
       "        0.97819417,  2.016     ])"
      ]
     },
     "execution_count": 24,
     "metadata": {},
     "output_type": "execute_result"
    }
   ],
   "source": [
    "val_data[Y_idx][:,app_idx2]"
   ]
  },
  {
   "cell_type": "code",
   "execution_count": 43,
   "metadata": {
    "collapsed": false,
    "deletable": true,
    "editable": true
   },
   "outputs": [],
   "source": [
    "# app_idx2 = 2\n",
    "# app_idx2 = list(app_idx)\n",
    "y_val = val_data[Y_idx][:,app_idx]\n",
    "y_hat = model.predict(reshape_as_tensor(val_data[X_idx]))[:,0]\n",
    "if all(y_hat[0] == y_hat):\n",
    "    print 'all predicted values are the same!'"
   ]
  },
  {
   "cell_type": "code",
   "execution_count": 227,
   "metadata": {
    "collapsed": false,
    "deletable": true,
    "editable": true
   },
   "outputs": [],
   "source": [
    "# plot_series(val_data[X_idx][1])"
   ]
  },
  {
   "cell_type": "code",
   "execution_count": 44,
   "metadata": {
    "collapsed": false,
    "deletable": true,
    "editable": true
   },
   "outputs": [
    {
     "data": {
      "image/png": "[encoded data removed]",
      "text/plain": [
       "<matplotlib.figure.Figure at 0x1187e9b10>"
      ]
     },
     "metadata": {},
     "output_type": "display_data"
    },
    {
     "data": {
      "image/png": "[encoded data removed]",
      "text/plain": [
       "<matplotlib.figure.Figure at 0x117f2ab10>"
      ]
     },
     "metadata": {},
     "output_type": "display_data"
    },
    {
     "data": {
      "image/png": "[encoded data removed]",
      "text/plain": [
       "<matplotlib.figure.Figure at 0x11be79c90>"
      ]
     },
     "metadata": {},
     "output_type": "display_data"
    }
   ],
   "source": [
    "# sns.distplot(np.log2(y+1))\n",
    "# sns.distplot(y, color='black')\n",
    "plot_empir_cum(y_val)\n",
    "plt.show()\n",
    "sns.distplot(y_val, color='black', hist_kws={'cumulative': True}, kde_kws={'cumulative': True})\n",
    "plt.show()\n",
    "sns.distplot(y_val, color='black')\n",
    "plt.show()\n",
    "\n",
    "# for i in range(Y.shape[1]):\n",
    "#     ax = sns.distplot(Y[:,i], color='black')\n",
    "#     ax.set_title('{}, actual'.format(APP_NAMES[i]))\n",
    "#     plt.show()\n",
    "#     ax = sns.distplot(Y_hat[:,i], color='black')\n",
    "#     ax.set_title('{}, predicted'.format(APP_NAMES[i]))\n",
    "#     plt.show() "
   ]
  },
  {
   "cell_type": "code",
   "execution_count": 46,
   "metadata": {
    "collapsed": false,
    "deletable": true,
    "editable": true
   },
   "outputs": [
    {
     "data": {
      "image/png": "[encoded data removed]",
      "text/plain": [
       "<matplotlib.figure.Figure at 0x120102550>"
      ]
     },
     "metadata": {},
     "output_type": "display_data"
    }
   ],
   "source": [
    "# # y_hat = dist_fun(y_hat, min_y, True)\n",
    "# ax = sns.regplot(x=array_to_1d(y), y=array_to_1d(y_hat), color='black')\n",
    "# ax.set_ylim(0,5)\n",
    "# ax.set_xlim(0,5)\n",
    "\n",
    "# colormap = plt.cm.Set1\n",
    "\n",
    "x_house_val = val_data[x_house_idx]\n",
    "\n",
    "plot_together = True\n",
    "figsize = (5,5)\n",
    "plt_title = 'Predictions vs actual'\n",
    "if plot_together:\n",
    "    fig = plt.figure(figsize=figsize)\n",
    "    ax = fig.add_subplot(111, title=plt_title)\n",
    "# ax.set_color_cycle([colormap(i) for i in np.linspace(0, 1, len(app_names))])\n",
    "for house_id in list(set(x_house_val)):\n",
    "    if not plot_together:\n",
    "        fig = plt.figure(figsize=figsize)\n",
    "        ax = fig.add_subplot(111, title=plt_title + '\\nHouse {}'.format(house_id))\n",
    "        ax.set_ylim(-0.1,2.5)\n",
    "        ax.set_xlim(-0.1,2.5)\n",
    "    y_hat_house = y_hat[x_house_val==house_id]\n",
    "    y_val_house = y_val[x_house_val==house_id]\n",
    "    ax.scatter(y_val_house, y_hat_house, alpha=0.5, label=house_id)\n",
    "# plt.show()\n",
    "# ax.set_ylim(0,2.5)\n",
    "# ax.set_xlim(0,2.5)\n",
    "if plot_together:\n",
    "    ax.legend()\n",
    "plt.show()\n",
    "# print min(y_hat)\n",
    "\n",
    "\n",
    "# i = 3\n",
    "# y, y_hat = Y[:,i], Y_hat[:,i]\n",
    "# fig = plt.figure()\n",
    "# ax = fig.add_subplot(111, title='Test scatter')\n",
    "# ax.scatter(y_hat, y, color='black', alpha=0.5)\n",
    "# ax.set_ylim(0,5)\n",
    "# ax.set_xlim(0,5)\n",
    "# # print min(y_hat)"
   ]
  },
  {
   "cell_type": "code",
   "execution_count": 120,
   "metadata": {
    "collapsed": false,
    "deletable": true,
    "editable": true
   },
   "outputs": [
    {
     "name": "stdout",
     "output_type": "stream",
     "text": [
      "num extreme predictions: 4\n",
      "extreme prediction 0\n",
      "actual energy: [ 0.395835], predicted: [ 11.80590725]\n"
     ]
    },
    {
     "data": {
      "text/plain": [
       "<matplotlib.axes._subplots.AxesSubplot at 0x13460bf10>"
      ]
     },
     "execution_count": 120,
     "metadata": {},
     "output_type": "execute_result"
    },
    {
     "data": {
      "image/png": "[encoded data removed]",
      "text/plain": [
       "<matplotlib.figure.Figure at 0x134ed9d90>"
      ]
     },
     "metadata": {},
     "output_type": "display_data"
    }
   ],
   "source": [
    "# Check where targets were normal but predictions were extreme.\n",
    "extreme_y_hat_cutoff = 10\n",
    "\n",
    "bad_idx = np.where(y_hat > extreme_y_hat_cutoff)[0]\n",
    "print 'num extreme predictions: {}'.format(len(bad_idx))\n",
    "\n",
    "i = 0  # change this\n",
    "print 'extreme prediction {}'.format(i)\n",
    "\n",
    "house_id = val_data[x_house_idx][bad_idx][i]\n",
    "d = val_data[x_date_idx][bad_idx][i]\n",
    "energy = val_data[Y_idx][:,app_idx][bad_idx][i]\n",
    "print 'actual energy: {}, predicted: {}'.format(energy, y_hat[bad_idx][i])\n",
    "\n",
    "plot_day(house_id, date_to_datetime(d), figsize=(15,8))"
   ]
  },
  {
   "cell_type": "code",
   "execution_count": 125,
   "metadata": {
    "collapsed": false,
    "deletable": true,
    "editable": true
   },
   "outputs": [
    {
     "name": "stdout",
     "output_type": "stream",
     "text": [
      "num extreme predictions: 2\n",
      "extreme prediction 1\n",
      "actual energy: [ 14.247415], predicted: [ 0.66881663]\n"
     ]
    },
    {
     "data": {
      "text/plain": [
       "<matplotlib.axes._subplots.AxesSubplot at 0x137995bd0>"
      ]
     },
     "execution_count": 125,
     "metadata": {},
     "output_type": "execute_result"
    },
    {
     "data": {
      "image/png": "[encoded data removed]",
      "text/plain": [
       "<matplotlib.figure.Figure at 0x134446510>"
      ]
     },
     "metadata": {},
     "output_type": "display_data"
    }
   ],
   "source": [
    "# Check where targets were extreme but predictions were too low.\n",
    "extreme_y_cutoff = 2\n",
    "\n",
    "bad_idx = np.where(y_val > extreme_y_cutoff)[0]\n",
    "print 'num extreme predictions: {}'.format(len(bad_idx))\n",
    "\n",
    "i = 1  # change this\n",
    "print 'extreme prediction {}'.format(i)\n",
    "\n",
    "house_id = val_data[x_house_idx][bad_idx][i]\n",
    "d = val_data[x_date_idx][bad_idx][i]\n",
    "energy = val_data[Y_idx][:,app_idx][bad_idx][i]\n",
    "print 'actual energy: {}, predicted: {}'.format(energy, y_hat[bad_idx][i])\n",
    "\n",
    "plot_day(house_id, date_to_datetime(d), figsize=(15,8))"
   ]
  },
  {
   "cell_type": "code",
   "execution_count": null,
   "metadata": {
    "collapsed": true,
    "deletable": true,
    "editable": true
   },
   "outputs": [],
   "source": []
  },
  {
   "cell_type": "code",
   "execution_count": null,
   "metadata": {
    "collapsed": true,
    "deletable": true,
    "editable": true
   },
   "outputs": [],
   "source": [
    "dir_refit_csv = os.path.join(dir_data, 'CLEAN_REFIT_081116')\n",
    "dir_refit = os.path.join(dir_data, 'refit')\n",
    "apps = pd.read_csv(os.path.join(dir_data, 'appliances.csv'))\n",
    "app_dict = create_app_dict()\n",
    "apps = apps_add_cols_from_patterns(apps, app_dict)\n",
    "get_house_app_tuples, get_app_nums, get_app_name, is_a_target_app = create_app_funs(apps, app_dict, APP_NAMES)\n",
    "load_app, load_ts, load_issues = create_load_funs(dir_refit)\n",
    "\n",
    "path_daily_stats = os.path.join(dir_data, 'stats_by_day.pkl')\n",
    "dstats = pd.read_pickle(path_daily_stats)\n",
    "dstats = clean_daily_stats(dstats)\n",
    "\n",
    "def get_df(house_id, use_app_names=False, dt_start=None, dt_end=None, include_issues=False):\n",
    "    '''\n",
    "    Plot time series of power data for each appliance, for specified house and date(time).\n",
    "    '''\n",
    "    \n",
    "    # Load time series for house and get timestamps for specified date.\n",
    "    ts_series = load_ts(house_id)\n",
    "    \n",
    "    # Add first column to df (timestamp).\n",
    "    df = pd.DataFrame({'Unix': ts_series})\n",
    "    \n",
    "    # Add appliance columns.\n",
    "    for app_num in range(10):\n",
    "        if use_app_names:\n",
    "            app_name = get_app_name(house_id, app_num)\n",
    "        else:\n",
    "            app_name = 'Appliance{}'.format(app_num) if app_num>0 else 'Aggregate'\n",
    "        df[app_name] = load_app(house_id, app_num)\n",
    "        \n",
    "    if dt_start is not None:  # that is, if we don't want all dates\n",
    "        ts_mask = get_ts_mask(ts_series, dt_start, dt_end)\n",
    "        df = df.loc[ts_mask]\n",
    "    \n",
    "    if include_issues:\n",
    "        # Add issues column.\n",
    "        df['Issues'] = load_issues(house_id)\n",
    "    \n",
    "    return df\n",
    "\n",
    "\n",
    "def plot_day(house_id, dt, savefile=None, figsize=(9,5), cols=None):\n",
    "    '''\n",
    "    Plot time series of power data for each appliance, for specified house and date(time).\n",
    "    '''\n",
    "    df = get_df(house_id, use_app_names=True, dt_start=dt)\n",
    "    if cols is not None:\n",
    "        cols += ['Unix']  # add Unix in case it wasn't included in cols\n",
    "        cols = list(set(cols))\n",
    "        df = df[cols]\n",
    "    df['Time'] = pd.to_datetime(df['Unix'], unit='s', utc=True)\n",
    "    df.set_index('Time', inplace=True)\n",
    "    del df['Unix']\n",
    "    \n",
    "    # df = df.tz_localize('GMT').tz_convert('Europe/London')\n",
    "    fig = plt.figure()\n",
    "    ax = fig.add_subplot(111)\n",
    "    app_names = list(df)  # get columns from DataFrame\n",
    "   \n",
    "    # Set color map.\n",
    "    colormap = plt.cm.Set1\n",
    "    ax.set_color_cycle([colormap(i) for i in np.linspace(0, 1, len(app_names))])\n",
    "    # ax = df.plot(figsize=figsize)\n",
    "    for app_name in app_names:\n",
    "        ax = df[app_name].plot(figsize=figsize)\n",
    "    ax.set_title('House {}\\n{}'.format(house_id, dt.date().strftime('%Y-%m-%d')))\n",
    "    ax.set_xlabel('')\n",
    "    ax.set_ylabel('Power (Watts)')\n",
    "    # plt.xticks(np.arange(min(df.index), max(df.index)+1, 8.))\n",
    "\n",
    "    # Put legend outside of plot.\n",
    "    # https://stackoverflow.com/a/4701285/4794432\n",
    "    box = ax.get_position()\n",
    "    ax.set_position([box.x0, box.y0, box.width * 0.8, box.height])\n",
    "    ax.legend(loc='center left', bbox_to_anchor=(1, 0.5))\n",
    "\n",
    "    # # Decrese legend font size.\n",
    "    # fontP = FontProperties()\n",
    "    # fontP.set_size('xx-small')\n",
    "\n",
    "    if savefile is not None:\n",
    "        plt.savefig(savefile)\n",
    "    return ax"
   ]
  },
  {
   "cell_type": "code",
   "execution_count": 14,
   "metadata": {
    "collapsed": false,
    "deletable": true,
    "editable": true
   },
   "outputs": [
    {
     "ename": "NameError",
     "evalue": "name 'val_data' is not defined",
     "output_type": "error",
     "traceback": [
      "\u001b[0;31m---------------------------------------------------------------------------\u001b[0m",
      "\u001b[0;31mNameError\u001b[0m                                 Traceback (most recent call last)",
      "\u001b[0;32m<ipython-input-14-12178b61f938>\u001b[0m in \u001b[0;36m<module>\u001b[0;34m()\u001b[0m\n\u001b[1;32m      5\u001b[0m \u001b[0mapp_idx\u001b[0m \u001b[0;34m=\u001b[0m \u001b[0mAPP_NAMES\u001b[0m\u001b[0;34m.\u001b[0m\u001b[0mindex\u001b[0m\u001b[0;34m(\u001b[0m\u001b[0mapp_name\u001b[0m\u001b[0;34m)\u001b[0m\u001b[0;34m\u001b[0m\u001b[0m\n\u001b[1;32m      6\u001b[0m \u001b[0;34m\u001b[0m\u001b[0m\n\u001b[0;32m----> 7\u001b[0;31m \u001b[0mplot_series\u001b[0m\u001b[0;34m(\u001b[0m\u001b[0mval_data\u001b[0m\u001b[0;34m[\u001b[0m\u001b[0mX_idx\u001b[0m\u001b[0;34m]\u001b[0m\u001b[0;34m[\u001b[0m\u001b[0mi\u001b[0m\u001b[0;34m]\u001b[0m\u001b[0;34m)\u001b[0m\u001b[0;34m\u001b[0m\u001b[0m\n\u001b[0m\u001b[1;32m      8\u001b[0m \u001b[0mhouse_id\u001b[0m \u001b[0;34m=\u001b[0m \u001b[0mval_data\u001b[0m\u001b[0;34m[\u001b[0m\u001b[0mx_house_idx\u001b[0m\u001b[0;34m]\u001b[0m\u001b[0;34m[\u001b[0m\u001b[0mi\u001b[0m\u001b[0;34m]\u001b[0m\u001b[0;34m\u001b[0m\u001b[0m\n\u001b[1;32m      9\u001b[0m \u001b[0md\u001b[0m \u001b[0;34m=\u001b[0m \u001b[0mval_data\u001b[0m\u001b[0;34m[\u001b[0m\u001b[0mx_date_idx\u001b[0m\u001b[0;34m]\u001b[0m\u001b[0;34m[\u001b[0m\u001b[0mi\u001b[0m\u001b[0;34m]\u001b[0m\u001b[0;34m\u001b[0m\u001b[0m\n",
      "\u001b[0;31mNameError\u001b[0m: name 'val_data' is not defined"
     ]
    }
   ],
   "source": [
    "# val_data[X_idx][0]\n",
    "i = 21\n",
    "app_name = 'washing machine'\n",
    "\n",
    "app_idx = APP_NAMES.index(app_name)\n",
    "\n",
    "plot_series(val_data[X_idx][i])\n",
    "house_id = val_data[x_house_idx][i]\n",
    "d = val_data[x_date_idx][i]\n",
    "energy1 = val_data[Y_idx][i][app_idx]\n",
    "print house_id, d, energy1\n",
    "\n",
    "plot_day(house_id, date_to_datetime(d))\n",
    "energy2 = get_energy(dstats, house_id, d, get_app_nums(house_id, app_name))\n",
    "print energy2"
   ]
  }
 ],
 "metadata": {
  "anaconda-cloud": {},
  "kernelspec": {
   "display_name": "Python 2",
   "language": "python",
   "name": "python2"
  },
  "language_info": {
   "codemirror_mode": {
    "name": "ipython",
    "version": 2
   },
   "file_extension": ".py",
   "mimetype": "text/x-python",
   "name": "python",
   "nbconvert_exporter": "python",
   "pygments_lexer": "ipython2",
   "version": "2.7.13"
  }
 },
 "nbformat": 4,
 "nbformat_minor": 2
}
