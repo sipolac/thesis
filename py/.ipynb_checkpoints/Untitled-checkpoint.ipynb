{
 "cells": [
  {
   "cell_type": "markdown",
   "metadata": {},
   "source": [
    "TODO:\n",
    "- Name all appliances\n",
    "- Fix data for homes that have different \n",
    "- Table of appliances in each home, date of first/last measurement.\n",
    "- Plot time series of data for some home for some day, showing main and individual appliances.\n",
    "- Show histogram of energy used in each home.\n",
    "- Show histogram of energy used by appliances in each home.\n",
    "- Replicate table 3.4 from Chaoyun's paper\n",
    "- Full day of data for each home on each day? Day 1: 20 homes with complete data, Day 2:...\n",
    "- Solar panels - ignore these homes (11 and 21)\n",
    "- Mystery kettle\n",
    "- House 12 has kettle mistake (says 6 when it should be 4). See "
   ]
  },
  {
   "cell_type": "code",
   "execution_count": 109,
   "metadata": {
    "collapsed": false,
    "deletable": true,
    "editable": true
   },
   "outputs": [],
   "source": [
    "import os\n",
    "import pandas as pd\n",
    "import numpy as np\n",
    "import sqlite3\n",
    "from ggplot import *\n",
    "from utils import *\n",
    "import io\n",
    "from get_activations import *\n",
    "import time\n",
    "import datetime"
   ]
  },
  {
   "cell_type": "code",
   "execution_count": 2,
   "metadata": {
    "collapsed": true,
    "deletable": true,
    "editable": true
   },
   "outputs": [],
   "source": [
    "dir_proj = '/Users/sipola/Google Drive/education/coursework/graduate/edinburgh/dissertation/thesis'\n",
    "dir_data = os.path.join(dir_proj, 'data')"
   ]
  },
  {
   "cell_type": "code",
   "execution_count": 3,
   "metadata": {
    "collapsed": true,
    "deletable": true,
    "editable": true
   },
   "outputs": [],
   "source": [
    "params_appliance = get_params_appliance()\n",
    "app = pd.read_csv(os.path.join(dir_data, 'appliances.csv'))\n",
    "refit_data_path = os.path.join(dir_data, 'REFITPowerData111215')"
   ]
  },
  {
   "cell_type": "code",
   "execution_count": 224,
   "metadata": {
    "collapsed": false,
    "deletable": true,
    "editable": true
   },
   "outputs": [
    {
     "name": "stdout",
     "output_type": "stream",
     "text": [
      "writing REFIT data...\n",
      "added house 1 (0.22 min)\n",
      "added house 2 (0.14 min)\n",
      "added house 3 (0.16 min)\n",
      "added house 4 (0.19 min)\n",
      "added house 5 (0.22 min)\n",
      "added house 6 (0.16 min)\n",
      "added house 7 (0.16 min)\n",
      "added house 8 (0.15 min)\n",
      "added house 9 (0.15 min)\n",
      "added house 10 (0.16 min)\n",
      "added house 11 (0.12 min)\n",
      "added house 12 (0.27 min)\n",
      "added house 13 (0.16 min)\n",
      "added house 15 (0.26 min)\n",
      "added house 16 (0.15 min)\n",
      "added house 17 (0.13 min)\n",
      "added house 18 (0.12 min)\n",
      "added house 19 (0.13 min)\n",
      "added house 20 (0.13 min)\n",
      "added house 21 (0.13 min)\n",
      "done!\n"
     ]
    }
   ],
   "source": [
    "reload(io)\n",
    "conn = sqlite3.connect(os.path.join(dir_data, 'refit.db'))\n",
    "dir_houses = os.path.join(dir_data, 'refit')\n",
    "# data_import.save_refit_data_to_sqlite(conn, refit_data_path, nrows=None)\n",
    "io.save_refit_data(conn, refit_data_path, 'numpy', dir_houses=dir_houses, dir_data=dir_data, nrows=None)\n",
    "conn.close()"
   ]
  },
  {
   "cell_type": "code",
   "execution_count": 228,
   "metadata": {
    "collapsed": false
   },
   "outputs": [
    {
     "data": {
      "text/plain": [
       "7633070"
      ]
     },
     "execution_count": 228,
     "metadata": {},
     "output_type": "execute_result"
    }
   ],
   "source": [
    "len(np.load(os.path.join(dir_houses, 'house1', 'timestamp.npy')))"
   ]
  },
  {
   "cell_type": "code",
   "execution_count": 201,
   "metadata": {
    "collapsed": false
   },
   "outputs": [],
   "source": [
    "def query(string):\n",
    "    conn = sqlite3.connect(os.path.join(dir_data, 'refit.db'))\n",
    "    df = pd.read_sql(string, conn)\n",
    "    conn.close()\n",
    "    return df\n",
    "\n",
    "\n",
    "def tt():\n",
    "    return time.time()\n",
    "\n",
    "\n",
    "def runtime(t0):\n",
    "    print '{1:.2g}'.format((tt() - t0) / 60)"
   ]
  },
  {
   "cell_type": "code",
   "execution_count": 171,
   "metadata": {
    "collapsed": false
   },
   "outputs": [
    {
     "data": {
      "text/html": [
       "<div>\n",
       "<table border=\"1\" class=\"dataframe\">\n",
       "  <thead>\n",
       "    <tr style=\"text-align: right;\">\n",
       "      <th></th>\n",
       "      <th>Timestamp</th>\n",
       "      <th>House</th>\n",
       "      <th>Appliance0</th>\n",
       "      <th>Appliance1</th>\n",
       "      <th>Appliance2</th>\n",
       "      <th>Appliance3</th>\n",
       "      <th>Appliance4</th>\n",
       "      <th>Appliance5</th>\n",
       "      <th>Appliance6</th>\n",
       "      <th>Appliance7</th>\n",
       "      <th>Appliance8</th>\n",
       "      <th>Appliance9</th>\n",
       "    </tr>\n",
       "  </thead>\n",
       "  <tbody>\n",
       "    <tr>\n",
       "      <th>0</th>\n",
       "      <td>1381323977</td>\n",
       "      <td>1</td>\n",
       "      <td>523</td>\n",
       "      <td>74</td>\n",
       "      <td>0</td>\n",
       "      <td>69</td>\n",
       "      <td>0</td>\n",
       "      <td>0</td>\n",
       "      <td>0</td>\n",
       "      <td>0</td>\n",
       "      <td>0</td>\n",
       "      <td>1</td>\n",
       "    </tr>\n",
       "    <tr>\n",
       "      <th>1</th>\n",
       "      <td>1381323990</td>\n",
       "      <td>1</td>\n",
       "      <td>526</td>\n",
       "      <td>75</td>\n",
       "      <td>0</td>\n",
       "      <td>69</td>\n",
       "      <td>0</td>\n",
       "      <td>0</td>\n",
       "      <td>0</td>\n",
       "      <td>0</td>\n",
       "      <td>0</td>\n",
       "      <td>1</td>\n",
       "    </tr>\n",
       "    <tr>\n",
       "      <th>2</th>\n",
       "      <td>1381324005</td>\n",
       "      <td>1</td>\n",
       "      <td>540</td>\n",
       "      <td>74</td>\n",
       "      <td>0</td>\n",
       "      <td>68</td>\n",
       "      <td>0</td>\n",
       "      <td>0</td>\n",
       "      <td>0</td>\n",
       "      <td>0</td>\n",
       "      <td>0</td>\n",
       "      <td>1</td>\n",
       "    </tr>\n",
       "  </tbody>\n",
       "</table>\n",
       "</div>"
      ],
      "text/plain": [
       "    Timestamp  House  Appliance0  Appliance1  Appliance2  Appliance3  \\\n",
       "0  1381323977      1         523          74           0          69   \n",
       "1  1381323990      1         526          75           0          69   \n",
       "2  1381324005      1         540          74           0          68   \n",
       "\n",
       "   Appliance4  Appliance5  Appliance6  Appliance7  Appliance8  Appliance9  \n",
       "0           0           0           0           0           0           1  \n",
       "1           0           0           0           0           0           1  \n",
       "2           0           0           0           0           0           1  "
      ]
     },
     "execution_count": 171,
     "metadata": {},
     "output_type": "execute_result"
    }
   ],
   "source": [
    "# Test\n",
    "query('SELECT * FROM power LIMIT 3')"
   ]
  },
  {
   "cell_type": "code",
   "execution_count": 172,
   "metadata": {
    "collapsed": false
   },
   "outputs": [],
   "source": [
    "# Initialize dict of dataframes for exploratory data analysis\n",
    "dfs = {}"
   ]
  },
  {
   "cell_type": "code",
   "execution_count": 173,
   "metadata": {
    "collapsed": true
   },
   "outputs": [],
   "source": [
    "# Get min and max of timestamp for each home\n",
    "t0 = tt()\n",
    "dfs['ts_min_max'] = query('SELECT House, MIN(Timestamp) AS TimestampMin, MAX(Timestamp) AS TimestampMax FROM power GROUP BY House')\n",
    "runtime(t0)"
   ]
  },
  {
   "cell_type": "code",
   "execution_count": 189,
   "metadata": {
    "collapsed": false
   },
   "outputs": [
    {
     "data": {
      "text/html": [
       "<div>\n",
       "<table border=\"1\" class=\"dataframe\">\n",
       "  <thead>\n",
       "    <tr style=\"text-align: right;\">\n",
       "      <th></th>\n",
       "      <th>DatetimeMax</th>\n",
       "      <th>DatetimeMin</th>\n",
       "      <th>House</th>\n",
       "    </tr>\n",
       "  </thead>\n",
       "  <tbody>\n",
       "    <tr>\n",
       "      <th>0</th>\n",
       "      <td>2015-07-10</td>\n",
       "      <td>2013-10-09</td>\n",
       "      <td>1</td>\n",
       "    </tr>\n",
       "    <tr>\n",
       "      <th>1</th>\n",
       "      <td>2015-05-28</td>\n",
       "      <td>2013-09-17</td>\n",
       "      <td>2</td>\n",
       "    </tr>\n",
       "    <tr>\n",
       "      <th>2</th>\n",
       "      <td>2015-06-02</td>\n",
       "      <td>2013-09-25</td>\n",
       "      <td>3</td>\n",
       "    </tr>\n",
       "    <tr>\n",
       "      <th>3</th>\n",
       "      <td>2015-07-07</td>\n",
       "      <td>2013-10-11</td>\n",
       "      <td>4</td>\n",
       "    </tr>\n",
       "    <tr>\n",
       "      <th>4</th>\n",
       "      <td>2015-07-06</td>\n",
       "      <td>2013-09-26</td>\n",
       "      <td>5</td>\n",
       "    </tr>\n",
       "    <tr>\n",
       "      <th>5</th>\n",
       "      <td>2015-06-28</td>\n",
       "      <td>2013-11-28</td>\n",
       "      <td>6</td>\n",
       "    </tr>\n",
       "    <tr>\n",
       "      <th>6</th>\n",
       "      <td>2015-07-08</td>\n",
       "      <td>2013-11-01</td>\n",
       "      <td>7</td>\n",
       "    </tr>\n",
       "    <tr>\n",
       "      <th>7</th>\n",
       "      <td>2015-05-10</td>\n",
       "      <td>2013-11-01</td>\n",
       "      <td>8</td>\n",
       "    </tr>\n",
       "    <tr>\n",
       "      <th>8</th>\n",
       "      <td>2015-07-08</td>\n",
       "      <td>2013-12-17</td>\n",
       "      <td>9</td>\n",
       "    </tr>\n",
       "    <tr>\n",
       "      <th>9</th>\n",
       "      <td>2015-06-30</td>\n",
       "      <td>2013-11-20</td>\n",
       "      <td>10</td>\n",
       "    </tr>\n",
       "    <tr>\n",
       "      <th>10</th>\n",
       "      <td>2015-06-30</td>\n",
       "      <td>2014-06-03</td>\n",
       "      <td>11</td>\n",
       "    </tr>\n",
       "    <tr>\n",
       "      <th>11</th>\n",
       "      <td>2015-07-08</td>\n",
       "      <td>2014-03-07</td>\n",
       "      <td>12</td>\n",
       "    </tr>\n",
       "    <tr>\n",
       "      <th>12</th>\n",
       "      <td>2015-05-31</td>\n",
       "      <td>2014-01-17</td>\n",
       "      <td>13</td>\n",
       "    </tr>\n",
       "    <tr>\n",
       "      <th>13</th>\n",
       "      <td>2015-07-08</td>\n",
       "      <td>2013-12-17</td>\n",
       "      <td>15</td>\n",
       "    </tr>\n",
       "    <tr>\n",
       "      <th>14</th>\n",
       "      <td>2015-07-08</td>\n",
       "      <td>2014-01-10</td>\n",
       "      <td>16</td>\n",
       "    </tr>\n",
       "    <tr>\n",
       "      <th>15</th>\n",
       "      <td>2015-06-19</td>\n",
       "      <td>2014-03-06</td>\n",
       "      <td>17</td>\n",
       "    </tr>\n",
       "    <tr>\n",
       "      <th>16</th>\n",
       "      <td>2015-05-24</td>\n",
       "      <td>2014-03-07</td>\n",
       "      <td>18</td>\n",
       "    </tr>\n",
       "    <tr>\n",
       "      <th>17</th>\n",
       "      <td>2015-06-20</td>\n",
       "      <td>2014-03-06</td>\n",
       "      <td>19</td>\n",
       "    </tr>\n",
       "    <tr>\n",
       "      <th>18</th>\n",
       "      <td>2015-06-23</td>\n",
       "      <td>2014-03-20</td>\n",
       "      <td>20</td>\n",
       "    </tr>\n",
       "    <tr>\n",
       "      <th>19</th>\n",
       "      <td>2015-07-10</td>\n",
       "      <td>2014-03-07</td>\n",
       "      <td>21</td>\n",
       "    </tr>\n",
       "  </tbody>\n",
       "</table>\n",
       "</div>"
      ],
      "text/plain": [
       "   DatetimeMax DatetimeMin  House\n",
       "0   2015-07-10  2013-10-09      1\n",
       "1   2015-05-28  2013-09-17      2\n",
       "2   2015-06-02  2013-09-25      3\n",
       "3   2015-07-07  2013-10-11      4\n",
       "4   2015-07-06  2013-09-26      5\n",
       "5   2015-06-28  2013-11-28      6\n",
       "6   2015-07-08  2013-11-01      7\n",
       "7   2015-05-10  2013-11-01      8\n",
       "8   2015-07-08  2013-12-17      9\n",
       "9   2015-06-30  2013-11-20     10\n",
       "10  2015-06-30  2014-06-03     11\n",
       "11  2015-07-08  2014-03-07     12\n",
       "12  2015-05-31  2014-01-17     13\n",
       "13  2015-07-08  2013-12-17     15\n",
       "14  2015-07-08  2014-01-10     16\n",
       "15  2015-06-19  2014-03-06     17\n",
       "16  2015-05-24  2014-03-07     18\n",
       "17  2015-06-20  2014-03-06     19\n",
       "18  2015-06-23  2014-03-20     20\n",
       "19  2015-07-10  2014-03-07     21"
      ]
     },
     "execution_count": 189,
     "metadata": {},
     "output_type": "execute_result"
    }
   ],
   "source": [
    "pd.DataFrame.from_dict({'House': dfs['ts_min_max']['House'],\n",
    "                        'DatetimeMin': [str(i.date()) for i in ts2dt(dfs['ts_min_max']['TimestampMin'])],\n",
    "                        'DatetimeMax': [str(i.date()) for i in ts2dt(dfs['ts_min_max']['TimestampMax'])]})"
   ]
  },
  {
   "cell_type": "code",
   "execution_count": 210,
   "metadata": {
    "collapsed": false
   },
   "outputs": [
    {
     "ename": "DatabaseError",
     "evalue": "Execution failed on sql 'SELECT House,MAX(Appliance0) AS MaxOnPower, AVG(Appliance0) AS MeanPower, STDEV(Appliance0) AS StddevPower,MAX(Appliance1) AS MaxOnPower, AVG(Appliance1) AS MeanPower, STDEV(Appliance1) AS StddevPower,MAX(Appliance2) AS MaxOnPower, AVG(Appliance2) AS MeanPower, STDEV(Appliance2) AS StddevPower,MAX(Appliance3) AS MaxOnPower, AVG(Appliance3) AS MeanPower, STDEV(Appliance3) AS StddevPower,MAX(Appliance4) AS MaxOnPower, AVG(Appliance4) AS MeanPower, STDEV(Appliance4) AS StddevPower,MAX(Appliance5) AS MaxOnPower, AVG(Appliance5) AS MeanPower, STDEV(Appliance5) AS StddevPower,MAX(Appliance6) AS MaxOnPower, AVG(Appliance6) AS MeanPower, STDEV(Appliance6) AS StddevPower,MAX(Appliance7) AS MaxOnPower, AVG(Appliance7) AS MeanPower, STDEV(Appliance7) AS StddevPower,MAX(Appliance8) AS MaxOnPower, AVG(Appliance8) AS MeanPower, STDEV(Appliance8) AS StddevPower,MAX(Appliance9) AS MaxOnPower, AVG(Appliance9) AS MeanPower, STDEV(Appliance9) AS StddevPower FROM power GROUP BY House': no such function: STDEV",
     "output_type": "error",
     "traceback": [
      "\u001b[0;31m---------------------------------------------------------------------------\u001b[0m",
      "\u001b[0;31mDatabaseError\u001b[0m                             Traceback (most recent call last)",
      "\u001b[0;32m<ipython-input-210-eff03ddd4a95>\u001b[0m in \u001b[0;36m<module>\u001b[0;34m()\u001b[0m\n\u001b[1;32m     14\u001b[0m \u001b[0mconn\u001b[0m\u001b[0;34m.\u001b[0m\u001b[0mcreate_aggregate\u001b[0m\u001b[0;34m(\u001b[0m\u001b[0;34m'stdev'\u001b[0m\u001b[0;34m,\u001b[0m \u001b[0;36m1\u001b[0m\u001b[0;34m,\u001b[0m \u001b[0mStdevFunc\u001b[0m\u001b[0;34m)\u001b[0m\u001b[0;34m\u001b[0m\u001b[0m\n\u001b[1;32m     15\u001b[0m \u001b[0mdf\u001b[0m \u001b[0;34m=\u001b[0m \u001b[0mpd\u001b[0m\u001b[0;34m.\u001b[0m\u001b[0mread_sql\u001b[0m\u001b[0;34m(\u001b[0m\u001b[0mquery_str\u001b[0m\u001b[0;34m,\u001b[0m \u001b[0mconn\u001b[0m\u001b[0;34m)\u001b[0m\u001b[0;34m\u001b[0m\u001b[0m\n\u001b[0;32m---> 16\u001b[0;31m \u001b[0mdfs\u001b[0m\u001b[0;34m[\u001b[0m\u001b[0;34m'app_stats'\u001b[0m\u001b[0;34m]\u001b[0m \u001b[0;34m=\u001b[0m \u001b[0mquery\u001b[0m\u001b[0;34m(\u001b[0m\u001b[0mquery_str\u001b[0m\u001b[0;34m)\u001b[0m\u001b[0;34m\u001b[0m\u001b[0m\n\u001b[0m\u001b[1;32m     17\u001b[0m \u001b[0mconn\u001b[0m\u001b[0;34m.\u001b[0m\u001b[0mclose\u001b[0m\u001b[0;34m(\u001b[0m\u001b[0;34m)\u001b[0m\u001b[0;34m\u001b[0m\u001b[0m\n\u001b[1;32m     18\u001b[0m \u001b[0mruntime\u001b[0m\u001b[0;34m(\u001b[0m\u001b[0mt0\u001b[0m\u001b[0;34m)\u001b[0m\u001b[0;34m\u001b[0m\u001b[0m\n",
      "\u001b[0;32m<ipython-input-201-cbfba61929db>\u001b[0m in \u001b[0;36mquery\u001b[0;34m(string)\u001b[0m\n\u001b[1;32m      1\u001b[0m \u001b[0;32mdef\u001b[0m \u001b[0mquery\u001b[0m\u001b[0;34m(\u001b[0m\u001b[0mstring\u001b[0m\u001b[0;34m)\u001b[0m\u001b[0;34m:\u001b[0m\u001b[0;34m\u001b[0m\u001b[0m\n\u001b[1;32m      2\u001b[0m     \u001b[0mconn\u001b[0m \u001b[0;34m=\u001b[0m \u001b[0msqlite3\u001b[0m\u001b[0;34m.\u001b[0m\u001b[0mconnect\u001b[0m\u001b[0;34m(\u001b[0m\u001b[0mos\u001b[0m\u001b[0;34m.\u001b[0m\u001b[0mpath\u001b[0m\u001b[0;34m.\u001b[0m\u001b[0mjoin\u001b[0m\u001b[0;34m(\u001b[0m\u001b[0mdir_data\u001b[0m\u001b[0;34m,\u001b[0m \u001b[0;34m'refit.db'\u001b[0m\u001b[0;34m)\u001b[0m\u001b[0;34m)\u001b[0m\u001b[0;34m\u001b[0m\u001b[0m\n\u001b[0;32m----> 3\u001b[0;31m     \u001b[0mdf\u001b[0m \u001b[0;34m=\u001b[0m \u001b[0mpd\u001b[0m\u001b[0;34m.\u001b[0m\u001b[0mread_sql\u001b[0m\u001b[0;34m(\u001b[0m\u001b[0mstring\u001b[0m\u001b[0;34m,\u001b[0m \u001b[0mconn\u001b[0m\u001b[0;34m)\u001b[0m\u001b[0;34m\u001b[0m\u001b[0m\n\u001b[0m\u001b[1;32m      4\u001b[0m     \u001b[0mconn\u001b[0m\u001b[0;34m.\u001b[0m\u001b[0mclose\u001b[0m\u001b[0;34m(\u001b[0m\u001b[0;34m)\u001b[0m\u001b[0;34m\u001b[0m\u001b[0m\n\u001b[1;32m      5\u001b[0m     \u001b[0;32mreturn\u001b[0m \u001b[0mdf\u001b[0m\u001b[0;34m\u001b[0m\u001b[0m\n",
      "\u001b[0;32m/Users/sipola/miniconda2/lib/python2.7/site-packages/pandas/io/sql.pyc\u001b[0m in \u001b[0;36mread_sql\u001b[0;34m(sql, con, index_col, coerce_float, params, parse_dates, columns, chunksize)\u001b[0m\n\u001b[1;32m    397\u001b[0m             \u001b[0msql\u001b[0m\u001b[0;34m,\u001b[0m \u001b[0mindex_col\u001b[0m\u001b[0;34m=\u001b[0m\u001b[0mindex_col\u001b[0m\u001b[0;34m,\u001b[0m \u001b[0mparams\u001b[0m\u001b[0;34m=\u001b[0m\u001b[0mparams\u001b[0m\u001b[0;34m,\u001b[0m\u001b[0;34m\u001b[0m\u001b[0m\n\u001b[1;32m    398\u001b[0m             \u001b[0mcoerce_float\u001b[0m\u001b[0;34m=\u001b[0m\u001b[0mcoerce_float\u001b[0m\u001b[0;34m,\u001b[0m \u001b[0mparse_dates\u001b[0m\u001b[0;34m=\u001b[0m\u001b[0mparse_dates\u001b[0m\u001b[0;34m,\u001b[0m\u001b[0;34m\u001b[0m\u001b[0m\n\u001b[0;32m--> 399\u001b[0;31m             chunksize=chunksize)\n\u001b[0m\u001b[1;32m    400\u001b[0m \u001b[0;34m\u001b[0m\u001b[0m\n\u001b[1;32m    401\u001b[0m     \u001b[0;32mtry\u001b[0m\u001b[0;34m:\u001b[0m\u001b[0;34m\u001b[0m\u001b[0m\n",
      "\u001b[0;32m/Users/sipola/miniconda2/lib/python2.7/site-packages/pandas/io/sql.pyc\u001b[0m in \u001b[0;36mread_query\u001b[0;34m(self, sql, index_col, coerce_float, params, parse_dates, chunksize)\u001b[0m\n\u001b[1;32m   1434\u001b[0m \u001b[0;34m\u001b[0m\u001b[0m\n\u001b[1;32m   1435\u001b[0m         \u001b[0margs\u001b[0m \u001b[0;34m=\u001b[0m \u001b[0m_convert_params\u001b[0m\u001b[0;34m(\u001b[0m\u001b[0msql\u001b[0m\u001b[0;34m,\u001b[0m \u001b[0mparams\u001b[0m\u001b[0;34m)\u001b[0m\u001b[0;34m\u001b[0m\u001b[0m\n\u001b[0;32m-> 1436\u001b[0;31m         \u001b[0mcursor\u001b[0m \u001b[0;34m=\u001b[0m \u001b[0mself\u001b[0m\u001b[0;34m.\u001b[0m\u001b[0mexecute\u001b[0m\u001b[0;34m(\u001b[0m\u001b[0;34m*\u001b[0m\u001b[0margs\u001b[0m\u001b[0;34m)\u001b[0m\u001b[0;34m\u001b[0m\u001b[0m\n\u001b[0m\u001b[1;32m   1437\u001b[0m         \u001b[0mcolumns\u001b[0m \u001b[0;34m=\u001b[0m \u001b[0;34m[\u001b[0m\u001b[0mcol_desc\u001b[0m\u001b[0;34m[\u001b[0m\u001b[0;36m0\u001b[0m\u001b[0;34m]\u001b[0m \u001b[0;32mfor\u001b[0m \u001b[0mcol_desc\u001b[0m \u001b[0;32min\u001b[0m \u001b[0mcursor\u001b[0m\u001b[0;34m.\u001b[0m\u001b[0mdescription\u001b[0m\u001b[0;34m]\u001b[0m\u001b[0;34m\u001b[0m\u001b[0m\n\u001b[1;32m   1438\u001b[0m \u001b[0;34m\u001b[0m\u001b[0m\n",
      "\u001b[0;32m/Users/sipola/miniconda2/lib/python2.7/site-packages/pandas/io/sql.pyc\u001b[0m in \u001b[0;36mexecute\u001b[0;34m(self, *args, **kwargs)\u001b[0m\n\u001b[1;32m   1411\u001b[0m             ex = DatabaseError(\n\u001b[1;32m   1412\u001b[0m                 \"Execution failed on sql '%s': %s\" % (args[0], exc))\n\u001b[0;32m-> 1413\u001b[0;31m             \u001b[0mraise_with_traceback\u001b[0m\u001b[0;34m(\u001b[0m\u001b[0mex\u001b[0m\u001b[0;34m)\u001b[0m\u001b[0;34m\u001b[0m\u001b[0m\n\u001b[0m\u001b[1;32m   1414\u001b[0m \u001b[0;34m\u001b[0m\u001b[0m\n\u001b[1;32m   1415\u001b[0m     \u001b[0;34m@\u001b[0m\u001b[0mstaticmethod\u001b[0m\u001b[0;34m\u001b[0m\u001b[0m\n",
      "\u001b[0;32m/Users/sipola/miniconda2/lib/python2.7/site-packages/pandas/io/sql.pyc\u001b[0m in \u001b[0;36mexecute\u001b[0;34m(self, *args, **kwargs)\u001b[0m\n\u001b[1;32m   1399\u001b[0m                 \u001b[0mcur\u001b[0m\u001b[0;34m.\u001b[0m\u001b[0mexecute\u001b[0m\u001b[0;34m(\u001b[0m\u001b[0;34m*\u001b[0m\u001b[0margs\u001b[0m\u001b[0;34m,\u001b[0m \u001b[0;34m**\u001b[0m\u001b[0mkwargs\u001b[0m\u001b[0;34m)\u001b[0m\u001b[0;34m\u001b[0m\u001b[0m\n\u001b[1;32m   1400\u001b[0m             \u001b[0;32melse\u001b[0m\u001b[0;34m:\u001b[0m\u001b[0;34m\u001b[0m\u001b[0m\n\u001b[0;32m-> 1401\u001b[0;31m                 \u001b[0mcur\u001b[0m\u001b[0;34m.\u001b[0m\u001b[0mexecute\u001b[0m\u001b[0;34m(\u001b[0m\u001b[0;34m*\u001b[0m\u001b[0margs\u001b[0m\u001b[0;34m)\u001b[0m\u001b[0;34m\u001b[0m\u001b[0m\n\u001b[0m\u001b[1;32m   1402\u001b[0m             \u001b[0;32mreturn\u001b[0m \u001b[0mcur\u001b[0m\u001b[0;34m\u001b[0m\u001b[0m\n\u001b[1;32m   1403\u001b[0m         \u001b[0;32mexcept\u001b[0m \u001b[0mException\u001b[0m \u001b[0;32mas\u001b[0m \u001b[0mexc\u001b[0m\u001b[0;34m:\u001b[0m\u001b[0;34m\u001b[0m\u001b[0m\n",
      "\u001b[0;31mDatabaseError\u001b[0m: Execution failed on sql 'SELECT House,MAX(Appliance0) AS MaxOnPower, AVG(Appliance0) AS MeanPower, STDEV(Appliance0) AS StddevPower,MAX(Appliance1) AS MaxOnPower, AVG(Appliance1) AS MeanPower, STDEV(Appliance1) AS StddevPower,MAX(Appliance2) AS MaxOnPower, AVG(Appliance2) AS MeanPower, STDEV(Appliance2) AS StddevPower,MAX(Appliance3) AS MaxOnPower, AVG(Appliance3) AS MeanPower, STDEV(Appliance3) AS StddevPower,MAX(Appliance4) AS MaxOnPower, AVG(Appliance4) AS MeanPower, STDEV(Appliance4) AS StddevPower,MAX(Appliance5) AS MaxOnPower, AVG(Appliance5) AS MeanPower, STDEV(Appliance5) AS StddevPower,MAX(Appliance6) AS MaxOnPower, AVG(Appliance6) AS MeanPower, STDEV(Appliance6) AS StddevPower,MAX(Appliance7) AS MaxOnPower, AVG(Appliance7) AS MeanPower, STDEV(Appliance7) AS StddevPower,MAX(Appliance8) AS MaxOnPower, AVG(Appliance8) AS MeanPower, STDEV(Appliance8) AS StddevPower,MAX(Appliance9) AS MaxOnPower, AVG(Appliance9) AS MeanPower, STDEV(Appliance9) AS StddevPower FROM power GROUP BY House': no such function: STDEV"
     ]
    }
   ],
   "source": [
    "# Get appliance statistics for each home. To be used in get_activations().\n",
    "with sqlite3.connect(os.path.join(dir_data, 'refit.db')) as conn:\n",
    "    conn.create_aggregate('stdev', 1, StdevFunc)\n",
    "\n",
    "# Build query string starting with column definitions.\n",
    "query_str = ['House']\n",
    "for app in range(10):\n",
    "    query_str.append('MAX(Appliance{0}) AS MaxOnPower, AVG(Appliance{0}) AS MeanPower, STDEV(Appliance{0}) AS StddevPower'.format(app))\n",
    "query_str = ','.join(query_str)\n",
    "query_str = 'SELECT ' + query_str + ' FROM power GROUP BY House'\n",
    "conn = sqlite3.connect(os.path.join(dir_data, 'refit.db'))\n",
    "\n",
    "# Run query.\n",
    "t0 = tt()\n",
    "conn = sqlite3.connect(os.path.join(dir_data, 'refit.db'))\n",
    "conn.create_aggregate('stdev', 1, StdevFunc)\n",
    "df = pd.read_sql(query_str, conn)\n",
    "dfs['app_stats'] = query(query_str)\n",
    "conn.close()\n",
    "runtime(t0)"
   ]
  },
  {
   "cell_type": "code",
   "execution_count": null,
   "metadata": {
    "collapsed": true
   },
   "outputs": [],
   "source": [
    "dfs['app_stats']"
   ]
  },
  {
   "cell_type": "code",
   "execution_count": null,
   "metadata": {
    "collapsed": true
   },
   "outputs": [],
   "source": []
  }
 ],
 "metadata": {
  "kernelspec": {
   "display_name": "Python 2",
   "language": "python",
   "name": "python2"
  },
  "language_info": {
   "codemirror_mode": {
    "name": "ipython",
    "version": 2
   },
   "file_extension": ".py",
   "mimetype": "text/x-python",
   "name": "python",
   "nbconvert_exporter": "python",
   "pygments_lexer": "ipython2",
   "version": "2.7.12"
  }
 },
 "nbformat": 4,
 "nbformat_minor": 2
}
