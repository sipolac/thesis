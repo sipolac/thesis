{
 "cells": [
  {
   "cell_type": "code",
   "execution_count": 109,
   "metadata": {
    "collapsed": false,
    "deletable": true,
    "editable": true
   },
   "outputs": [],
   "source": [
    "import os\n",
    "import pandas as pd\n",
    "import numpy as np\n",
    "import sqlite3\n",
    "from ggplot import *\n",
    "from utils import *\n",
    "import data_import\n",
    "from get_activations import *\n",
    "import time\n",
    "import datetime"
   ]
  },
  {
   "cell_type": "code",
   "execution_count": 2,
   "metadata": {
    "collapsed": true,
    "deletable": true,
    "editable": true
   },
   "outputs": [],
   "source": [
    "dir_proj = '/Users/sipola/Google Drive/education/coursework/graduate/edinburgh/dissertation/thesis'\n",
    "dir_data = os.path.join(dir_proj, 'data')"
   ]
  },
  {
   "cell_type": "code",
   "execution_count": 3,
   "metadata": {
    "collapsed": true,
    "deletable": true,
    "editable": true
   },
   "outputs": [],
   "source": [
    "params_appliance = get_params_appliance()\n",
    "app = pd.read_csv(os.path.join(dir_data, 'appliances.csv'))\n",
    "refit_data_path = os.path.join(dir_data, 'REFITPowerData111215')"
   ]
  },
  {
   "cell_type": "code",
   "execution_count": 161,
   "metadata": {
    "collapsed": false,
    "deletable": true,
    "editable": true
   },
   "outputs": [
    {
     "name": "stdout",
     "output_type": "stream",
     "text": [
      "writing REFIT data to SQLite database...\n",
      "added house 1 to the database (0.99 min)\n",
      "added house 2 to the database (0.84 min)\n",
      "added house 3 to the database (1 min)\n",
      "added house 4 to the database (0.94 min)\n",
      "added house 5 to the database (1.1 min)\n",
      "added house 6 to the database (0.86 min)\n",
      "added house 7 to the database (1.3 min)\n",
      "added house 8 to the database (0.85 min)\n",
      "added house 9 to the database (0.94 min)\n",
      "added house 10 to the database (1.2 min)\n",
      "added house 11 to the database (0.64 min)\n",
      "added house 12 to the database (1.2 min)\n",
      "added house 13 to the database (0.77 min)\n",
      "added house 15 to the database (0.89 min)\n",
      "added house 16 to the database (0.76 min)\n",
      "added house 17 to the database (0.94 min)\n",
      "added house 18 to the database (0.89 min)\n",
      "added house 19 to the database (0.85 min)\n",
      "added house 20 to the database (0.85 min)\n",
      "added house 21 to the database (1 min)\n",
      "done!\n"
     ]
    }
   ],
   "source": [
    "reload(data_import)\n",
    "\n",
    "conn = sqlite3.connect(os.path.join(dir_data, 'refit.db'))\n",
    "\n",
    "data_import.save_refit_data_to_sqlite(conn, refit_data_path, app, nrows=None)\n",
    "\n",
    "conn.close()"
   ]
  },
  {
   "cell_type": "code",
   "execution_count": 20,
   "metadata": {
    "collapsed": false
   },
   "outputs": [
    {
     "data": {
      "text/html": [
       "<div>\n",
       "<table border=\"1\" class=\"dataframe\">\n",
       "  <thead>\n",
       "    <tr style=\"text-align: right;\">\n",
       "      <th></th>\n",
       "      <th>Timestamp</th>\n",
       "      <th>House</th>\n",
       "      <th>Appliance0</th>\n",
       "      <th>Appliance1</th>\n",
       "      <th>Appliance2</th>\n",
       "      <th>Appliance3</th>\n",
       "      <th>Appliance4</th>\n",
       "      <th>Appliance5</th>\n",
       "      <th>Appliance6</th>\n",
       "      <th>Appliance7</th>\n",
       "      <th>Appliance8</th>\n",
       "      <th>Appliance9</th>\n",
       "    </tr>\n",
       "  </thead>\n",
       "  <tbody>\n",
       "    <tr>\n",
       "      <th>0</th>\n",
       "      <td>1381323977</td>\n",
       "      <td>1</td>\n",
       "      <td>523</td>\n",
       "      <td>74</td>\n",
       "      <td>0</td>\n",
       "      <td>69</td>\n",
       "      <td>0</td>\n",
       "      <td>0</td>\n",
       "      <td>0</td>\n",
       "      <td>0</td>\n",
       "      <td>0</td>\n",
       "      <td>1</td>\n",
       "    </tr>\n",
       "    <tr>\n",
       "      <th>1</th>\n",
       "      <td>1381323990</td>\n",
       "      <td>1</td>\n",
       "      <td>526</td>\n",
       "      <td>75</td>\n",
       "      <td>0</td>\n",
       "      <td>69</td>\n",
       "      <td>0</td>\n",
       "      <td>0</td>\n",
       "      <td>0</td>\n",
       "      <td>0</td>\n",
       "      <td>0</td>\n",
       "      <td>1</td>\n",
       "    </tr>\n",
       "    <tr>\n",
       "      <th>2</th>\n",
       "      <td>1381324005</td>\n",
       "      <td>1</td>\n",
       "      <td>540</td>\n",
       "      <td>74</td>\n",
       "      <td>0</td>\n",
       "      <td>68</td>\n",
       "      <td>0</td>\n",
       "      <td>0</td>\n",
       "      <td>0</td>\n",
       "      <td>0</td>\n",
       "      <td>0</td>\n",
       "      <td>1</td>\n",
       "    </tr>\n",
       "    <tr>\n",
       "      <th>3</th>\n",
       "      <td>1381324020</td>\n",
       "      <td>1</td>\n",
       "      <td>532</td>\n",
       "      <td>74</td>\n",
       "      <td>0</td>\n",
       "      <td>68</td>\n",
       "      <td>0</td>\n",
       "      <td>0</td>\n",
       "      <td>0</td>\n",
       "      <td>0</td>\n",
       "      <td>0</td>\n",
       "      <td>1</td>\n",
       "    </tr>\n",
       "    <tr>\n",
       "      <th>4</th>\n",
       "      <td>1381324035</td>\n",
       "      <td>1</td>\n",
       "      <td>540</td>\n",
       "      <td>74</td>\n",
       "      <td>0</td>\n",
       "      <td>69</td>\n",
       "      <td>0</td>\n",
       "      <td>0</td>\n",
       "      <td>0</td>\n",
       "      <td>0</td>\n",
       "      <td>0</td>\n",
       "      <td>1</td>\n",
       "    </tr>\n",
       "    <tr>\n",
       "      <th>5</th>\n",
       "      <td>1381324038</td>\n",
       "      <td>1</td>\n",
       "      <td>539</td>\n",
       "      <td>74</td>\n",
       "      <td>0</td>\n",
       "      <td>69</td>\n",
       "      <td>0</td>\n",
       "      <td>0</td>\n",
       "      <td>0</td>\n",
       "      <td>0</td>\n",
       "      <td>0</td>\n",
       "      <td>1</td>\n",
       "    </tr>\n",
       "    <tr>\n",
       "      <th>6</th>\n",
       "      <td>1381324050</td>\n",
       "      <td>1</td>\n",
       "      <td>537</td>\n",
       "      <td>74</td>\n",
       "      <td>0</td>\n",
       "      <td>69</td>\n",
       "      <td>0</td>\n",
       "      <td>0</td>\n",
       "      <td>0</td>\n",
       "      <td>0</td>\n",
       "      <td>0</td>\n",
       "      <td>1</td>\n",
       "    </tr>\n",
       "    <tr>\n",
       "      <th>7</th>\n",
       "      <td>1381324051</td>\n",
       "      <td>1</td>\n",
       "      <td>537</td>\n",
       "      <td>74</td>\n",
       "      <td>0</td>\n",
       "      <td>69</td>\n",
       "      <td>0</td>\n",
       "      <td>0</td>\n",
       "      <td>0</td>\n",
       "      <td>0</td>\n",
       "      <td>0</td>\n",
       "      <td>1</td>\n",
       "    </tr>\n",
       "    <tr>\n",
       "      <th>8</th>\n",
       "      <td>1381324064</td>\n",
       "      <td>1</td>\n",
       "      <td>548</td>\n",
       "      <td>74</td>\n",
       "      <td>0</td>\n",
       "      <td>69</td>\n",
       "      <td>0</td>\n",
       "      <td>0</td>\n",
       "      <td>0</td>\n",
       "      <td>0</td>\n",
       "      <td>0</td>\n",
       "      <td>1</td>\n",
       "    </tr>\n",
       "    <tr>\n",
       "      <th>9</th>\n",
       "      <td>1381324066</td>\n",
       "      <td>1</td>\n",
       "      <td>557</td>\n",
       "      <td>73</td>\n",
       "      <td>0</td>\n",
       "      <td>68</td>\n",
       "      <td>0</td>\n",
       "      <td>0</td>\n",
       "      <td>0</td>\n",
       "      <td>0</td>\n",
       "      <td>0</td>\n",
       "      <td>1</td>\n",
       "    </tr>\n",
       "  </tbody>\n",
       "</table>\n",
       "</div>"
      ],
      "text/plain": [
       "    Timestamp  House  Appliance0  Appliance1  Appliance2  Appliance3  \\\n",
       "0  1381323977      1         523          74           0          69   \n",
       "1  1381323990      1         526          75           0          69   \n",
       "2  1381324005      1         540          74           0          68   \n",
       "3  1381324020      1         532          74           0          68   \n",
       "4  1381324035      1         540          74           0          69   \n",
       "5  1381324038      1         539          74           0          69   \n",
       "6  1381324050      1         537          74           0          69   \n",
       "7  1381324051      1         537          74           0          69   \n",
       "8  1381324064      1         548          74           0          69   \n",
       "9  1381324066      1         557          73           0          68   \n",
       "\n",
       "   Appliance4  Appliance5  Appliance6  Appliance7  Appliance8  Appliance9  \n",
       "0           0           0           0           0           0           1  \n",
       "1           0           0           0           0           0           1  \n",
       "2           0           0           0           0           0           1  \n",
       "3           0           0           0           0           0           1  \n",
       "4           0           0           0           0           0           1  \n",
       "5           0           0           0           0           0           1  \n",
       "6           0           0           0           0           0           1  \n",
       "7           0           0           0           0           0           1  \n",
       "8           0           0           0           0           0           1  \n",
       "9           0           0           0           0           0           1  "
      ]
     },
     "execution_count": 20,
     "metadata": {},
     "output_type": "execute_result"
    }
   ],
   "source": [
    "conn = sqlite3.connect(os.path.join(dir_data, 'refit.db'))\n",
    "\n",
    "tmp = pd.read_sql('SELECT * FROM power LIMIT 10', conn)\n",
    "\n",
    "conn.close()\n",
    "\n",
    "tmp"
   ]
  },
  {
   "cell_type": "code",
   "execution_count": 18,
   "metadata": {
    "collapsed": false
   },
   "outputs": [
    {
     "data": {
      "text/plain": [
       "array([1381323977, 1381323990, 1381324005, 1381324020, 1381324035,\n",
       "       1381324038, 1381324050, 1381324051, 1381324064, 1381324066])"
      ]
     },
     "execution_count": 18,
     "metadata": {},
     "output_type": "execute_result"
    }
   ],
   "source": [
    "tmp['Timestamp'].values"
   ]
  },
  {
   "cell_type": "code",
   "execution_count": 106,
   "metadata": {
    "collapsed": false,
    "deletable": true,
    "editable": true
   },
   "outputs": [
    {
     "data": {
      "image/png": "[encoded data removed]",
      "text/plain": [
       "<matplotlib.figure.Figure at 0x10a0f47d0>"
      ]
     },
     "metadata": {},
     "output_type": "display_data"
    },
    {
     "data": {
      "text/plain": [
       "<ggplot: (278983933)>"
      ]
     },
     "execution_count": 106,
     "metadata": {},
     "output_type": "execute_result"
    }
   ],
   "source": [
    "ggplot(df.loc[(df['Appliance'] == 'fridge') & (df['Power'] > 50) & (df['Power'] < 300)], aes('Power')) + geom_density(adjust = 1/5)"
   ]
  },
  {
   "cell_type": "code",
   "execution_count": 76,
   "metadata": {
    "collapsed": true
   },
   "outputs": [],
   "source": [
    "df = pd.DataFrame({'A' : ['foo', 'bar', 'foo', 'bar',\n",
    "                          'foo', 'bar', 'foo', 'foo'],\n",
    "                   'B' : ['one', 'one', 'two', 'three',\n",
    "                          'two', 'two', 'one', 'three'],\n",
    "                   'C' : np.random.randint(10, size=8),\n",
    "                   'D' : np.random.randint(10, size=8)})"
   ]
  },
  {
   "cell_type": "code",
   "execution_count": 77,
   "metadata": {
    "collapsed": false
   },
   "outputs": [
    {
     "data": {
      "text/html": [
       "<div>\n",
       "<table border=\"1\" class=\"dataframe\">\n",
       "  <thead>\n",
       "    <tr style=\"text-align: right;\">\n",
       "      <th></th>\n",
       "      <th>A</th>\n",
       "      <th>B</th>\n",
       "      <th>C</th>\n",
       "      <th>D</th>\n",
       "    </tr>\n",
       "  </thead>\n",
       "  <tbody>\n",
       "    <tr>\n",
       "      <th>0</th>\n",
       "      <td>foo</td>\n",
       "      <td>one</td>\n",
       "      <td>8</td>\n",
       "      <td>7</td>\n",
       "    </tr>\n",
       "    <tr>\n",
       "      <th>1</th>\n",
       "      <td>bar</td>\n",
       "      <td>one</td>\n",
       "      <td>0</td>\n",
       "      <td>7</td>\n",
       "    </tr>\n",
       "    <tr>\n",
       "      <th>2</th>\n",
       "      <td>foo</td>\n",
       "      <td>two</td>\n",
       "      <td>7</td>\n",
       "      <td>3</td>\n",
       "    </tr>\n",
       "    <tr>\n",
       "      <th>3</th>\n",
       "      <td>bar</td>\n",
       "      <td>three</td>\n",
       "      <td>6</td>\n",
       "      <td>2</td>\n",
       "    </tr>\n",
       "    <tr>\n",
       "      <th>4</th>\n",
       "      <td>foo</td>\n",
       "      <td>two</td>\n",
       "      <td>3</td>\n",
       "      <td>4</td>\n",
       "    </tr>\n",
       "    <tr>\n",
       "      <th>5</th>\n",
       "      <td>bar</td>\n",
       "      <td>two</td>\n",
       "      <td>4</td>\n",
       "      <td>0</td>\n",
       "    </tr>\n",
       "    <tr>\n",
       "      <th>6</th>\n",
       "      <td>foo</td>\n",
       "      <td>one</td>\n",
       "      <td>4</td>\n",
       "      <td>1</td>\n",
       "    </tr>\n",
       "    <tr>\n",
       "      <th>7</th>\n",
       "      <td>foo</td>\n",
       "      <td>three</td>\n",
       "      <td>6</td>\n",
       "      <td>7</td>\n",
       "    </tr>\n",
       "  </tbody>\n",
       "</table>\n",
       "</div>"
      ],
      "text/plain": [
       "     A      B  C  D\n",
       "0  foo    one  8  7\n",
       "1  bar    one  0  7\n",
       "2  foo    two  7  3\n",
       "3  bar  three  6  2\n",
       "4  foo    two  3  4\n",
       "5  bar    two  4  0\n",
       "6  foo    one  4  1\n",
       "7  foo  three  6  7"
      ]
     },
     "execution_count": 77,
     "metadata": {},
     "output_type": "execute_result"
    }
   ],
   "source": [
    "df"
   ]
  },
  {
   "cell_type": "code",
   "execution_count": 78,
   "metadata": {
    "collapsed": false
   },
   "outputs": [
    {
     "data": {
      "text/html": [
       "<div>\n",
       "<table border=\"1\" class=\"dataframe\">\n",
       "  <thead>\n",
       "    <tr style=\"text-align: right;\">\n",
       "      <th></th>\n",
       "      <th>C</th>\n",
       "      <th>D</th>\n",
       "    </tr>\n",
       "  </thead>\n",
       "  <tbody>\n",
       "    <tr>\n",
       "      <th>0</th>\n",
       "      <td>NaN</td>\n",
       "      <td>NaN</td>\n",
       "    </tr>\n",
       "    <tr>\n",
       "      <th>1</th>\n",
       "      <td>NaN</td>\n",
       "      <td>NaN</td>\n",
       "    </tr>\n",
       "    <tr>\n",
       "      <th>2</th>\n",
       "      <td>-1.0</td>\n",
       "      <td>-4.0</td>\n",
       "    </tr>\n",
       "    <tr>\n",
       "      <th>3</th>\n",
       "      <td>6.0</td>\n",
       "      <td>-5.0</td>\n",
       "    </tr>\n",
       "    <tr>\n",
       "      <th>4</th>\n",
       "      <td>-4.0</td>\n",
       "      <td>1.0</td>\n",
       "    </tr>\n",
       "    <tr>\n",
       "      <th>5</th>\n",
       "      <td>-2.0</td>\n",
       "      <td>-2.0</td>\n",
       "    </tr>\n",
       "    <tr>\n",
       "      <th>6</th>\n",
       "      <td>1.0</td>\n",
       "      <td>-3.0</td>\n",
       "    </tr>\n",
       "    <tr>\n",
       "      <th>7</th>\n",
       "      <td>2.0</td>\n",
       "      <td>6.0</td>\n",
       "    </tr>\n",
       "  </tbody>\n",
       "</table>\n",
       "</div>"
      ],
      "text/plain": [
       "     C    D\n",
       "0  NaN  NaN\n",
       "1  NaN  NaN\n",
       "2 -1.0 -4.0\n",
       "3  6.0 -5.0\n",
       "4 -4.0  1.0\n",
       "5 -2.0 -2.0\n",
       "6  1.0 -3.0\n",
       "7  2.0  6.0"
      ]
     },
     "execution_count": 78,
     "metadata": {},
     "output_type": "execute_result"
    }
   ],
   "source": [
    "df.groupby('A').transform(lambda x: x.diff())"
   ]
  },
  {
   "cell_type": "code",
   "execution_count": 88,
   "metadata": {
    "collapsed": false
   },
   "outputs": [
    {
     "data": {
      "text/plain": [
       "DatetimeIndex(['2013-10-09 14:06:17+01:00', '2013-10-09 14:06:17+01:00'], dtype='datetime64[ns, Europe/London]', freq=None)"
      ]
     },
     "execution_count": 88,
     "metadata": {},
     "output_type": "execute_result"
    }
   ],
   "source": [
    "pd.to_datetime([1381323977, 1381323977], unit='s', utc=True).tz_convert('Europe/London')"
   ]
  },
  {
   "cell_type": "code",
   "execution_count": 105,
   "metadata": {
    "collapsed": false
   },
   "outputs": [],
   "source": [
    "def ts2dt(ts):\n",
    "    '''Convert int timestamp to datetime'''\n",
    "    # https://stackoverflow.com/questions/3694487/initialize-a-datetime-object-with-seconds-since-epoch\n",
    "    # return np.array(pd.to_datetime(ts, unit='s', utc=True).tz_convert('Europe/London'))\n",
    "    datetimefun = lambda ts: datetime.datetime.fromtimestamp(ts)\n",
    "    if isinstance(ts, int):\n",
    "        return datetimefun(ts)\n",
    "    else:\n",
    "        return [datetimefun(i) for i in ts]"
   ]
  },
  {
   "cell_type": "code",
   "execution_count": 106,
   "metadata": {
    "collapsed": false
   },
   "outputs": [
    {
     "data": {
      "text/plain": [
       "[datetime.datetime(2013, 10, 9, 14, 6, 17),\n",
       " datetime.datetime(2013, 10, 9, 14, 6, 30),\n",
       " datetime.datetime(2013, 10, 9, 14, 6, 45),\n",
       " datetime.datetime(2013, 10, 9, 14, 7),\n",
       " datetime.datetime(2013, 10, 9, 14, 7, 15),\n",
       " datetime.datetime(2013, 10, 9, 14, 7, 18),\n",
       " datetime.datetime(2013, 10, 9, 14, 7, 30),\n",
       " datetime.datetime(2013, 10, 9, 14, 7, 31),\n",
       " datetime.datetime(2013, 10, 9, 14, 7, 44),\n",
       " datetime.datetime(2013, 10, 9, 14, 7, 46)]"
      ]
     },
     "execution_count": 106,
     "metadata": {},
     "output_type": "execute_result"
    }
   ],
   "source": [
    "ts2dt(tmp['Timestamp'])"
   ]
  },
  {
   "cell_type": "code",
   "execution_count": 127,
   "metadata": {
    "collapsed": false
   },
   "outputs": [
    {
     "data": {
      "text/plain": [
       "datetime.datetime(2013, 10, 9, 14, 7)"
      ]
     },
     "execution_count": 127,
     "metadata": {},
     "output_type": "execute_result"
    }
   ],
   "source": [
    "ts2dt(1381324020)"
   ]
  },
  {
   "cell_type": "code",
   "execution_count": 158,
   "metadata": {
    "collapsed": true
   },
   "outputs": [],
   "source": [
    "def dt2ts(dt):\n",
    "    if isinstance(dt, datetime.datetime):\n",
    "        print 'scalar'\n",
    "        return calendar.timegm(dt)\n",
    "    else:\n",
    "        print 'array'\n",
    "        print dt\n",
    "        return [calendar.timegm(i) for i in dt]"
   ]
  },
  {
   "cell_type": "code",
   "execution_count": 135,
   "metadata": {
    "collapsed": false
   },
   "outputs": [
    {
     "data": {
      "text/plain": [
       "array([1381323977, 1381323990, 1381324005, 1381324020, 1381324035,\n",
       "       1381324038, 1381324050, 1381324051, 1381324064, 1381324066])"
      ]
     },
     "execution_count": 135,
     "metadata": {},
     "output_type": "execute_result"
    }
   ],
   "source": [
    "tmp['Timestamp'].values"
   ]
  },
  {
   "cell_type": "code",
   "execution_count": 160,
   "metadata": {
    "collapsed": false
   },
   "outputs": [
    {
     "name": "stdout",
     "output_type": "stream",
     "text": [
      "array\n",
      "[datetime.datetime(2013, 10, 9, 14, 6, 17), datetime.datetime(2013, 10, 9, 14, 6, 30), datetime.datetime(2013, 10, 9, 14, 6, 45), datetime.datetime(2013, 10, 9, 14, 7), datetime.datetime(2013, 10, 9, 14, 7, 15), datetime.datetime(2013, 10, 9, 14, 7, 18), datetime.datetime(2013, 10, 9, 14, 7, 30), datetime.datetime(2013, 10, 9, 14, 7, 31), datetime.datetime(2013, 10, 9, 14, 7, 44), datetime.datetime(2013, 10, 9, 14, 7, 46)]\n"
     ]
    },
    {
     "ename": "TypeError",
     "evalue": "'datetime.datetime' object has no attribute '__getitem__'",
     "output_type": "error",
     "traceback": [
      "\u001b[0;31m---------------------------------------------------------------------------\u001b[0m",
      "\u001b[0;31mTypeError\u001b[0m                                 Traceback (most recent call last)",
      "\u001b[0;32m<ipython-input-160-5ba69ba2d3a9>\u001b[0m in \u001b[0;36m<module>\u001b[0;34m()\u001b[0m\n\u001b[0;32m----> 1\u001b[0;31m \u001b[0mdt2ts\u001b[0m\u001b[0;34m(\u001b[0m\u001b[0mts2dt\u001b[0m\u001b[0;34m(\u001b[0m\u001b[0mtmp\u001b[0m\u001b[0;34m[\u001b[0m\u001b[0;34m'Timestamp'\u001b[0m\u001b[0;34m]\u001b[0m\u001b[0;34m.\u001b[0m\u001b[0mvalues\u001b[0m\u001b[0;34m)\u001b[0m\u001b[0;34m)\u001b[0m\u001b[0;34m\u001b[0m\u001b[0m\n\u001b[0m",
      "\u001b[0;32m<ipython-input-158-f6834d99ec17>\u001b[0m in \u001b[0;36mdt2ts\u001b[0;34m(dt)\u001b[0m\n\u001b[1;32m      6\u001b[0m         \u001b[0;32mprint\u001b[0m \u001b[0;34m'array'\u001b[0m\u001b[0;34m\u001b[0m\u001b[0m\n\u001b[1;32m      7\u001b[0m         \u001b[0;32mprint\u001b[0m \u001b[0mdt\u001b[0m\u001b[0;34m\u001b[0m\u001b[0m\n\u001b[0;32m----> 8\u001b[0;31m         \u001b[0;32mreturn\u001b[0m \u001b[0;34m[\u001b[0m\u001b[0mcalendar\u001b[0m\u001b[0;34m.\u001b[0m\u001b[0mtimegm\u001b[0m\u001b[0;34m(\u001b[0m\u001b[0mi\u001b[0m\u001b[0;34m)\u001b[0m \u001b[0;32mfor\u001b[0m \u001b[0mi\u001b[0m \u001b[0;32min\u001b[0m \u001b[0mdt\u001b[0m\u001b[0;34m]\u001b[0m\u001b[0;34m\u001b[0m\u001b[0m\n\u001b[0m",
      "\u001b[0;32m/Users/sipola/miniconda2/lib/python2.7/calendar.pyc\u001b[0m in \u001b[0;36mtimegm\u001b[0;34m(tuple)\u001b[0m\n\u001b[1;32m    610\u001b[0m \u001b[0;32mdef\u001b[0m \u001b[0mtimegm\u001b[0m\u001b[0;34m(\u001b[0m\u001b[0mtuple\u001b[0m\u001b[0;34m)\u001b[0m\u001b[0;34m:\u001b[0m\u001b[0;34m\u001b[0m\u001b[0m\n\u001b[1;32m    611\u001b[0m     \u001b[0;34m\"\"\"Unrelated but handy function to calculate Unix timestamp from GMT.\"\"\"\u001b[0m\u001b[0;34m\u001b[0m\u001b[0m\n\u001b[0;32m--> 612\u001b[0;31m     \u001b[0myear\u001b[0m\u001b[0;34m,\u001b[0m \u001b[0mmonth\u001b[0m\u001b[0;34m,\u001b[0m \u001b[0mday\u001b[0m\u001b[0;34m,\u001b[0m \u001b[0mhour\u001b[0m\u001b[0;34m,\u001b[0m \u001b[0mminute\u001b[0m\u001b[0;34m,\u001b[0m \u001b[0msecond\u001b[0m \u001b[0;34m=\u001b[0m \u001b[0mtuple\u001b[0m\u001b[0;34m[\u001b[0m\u001b[0;34m:\u001b[0m\u001b[0;36m6\u001b[0m\u001b[0;34m]\u001b[0m\u001b[0;34m\u001b[0m\u001b[0m\n\u001b[0m\u001b[1;32m    613\u001b[0m     \u001b[0mdays\u001b[0m \u001b[0;34m=\u001b[0m \u001b[0mdatetime\u001b[0m\u001b[0;34m.\u001b[0m\u001b[0mdate\u001b[0m\u001b[0;34m(\u001b[0m\u001b[0myear\u001b[0m\u001b[0;34m,\u001b[0m \u001b[0mmonth\u001b[0m\u001b[0;34m,\u001b[0m \u001b[0;36m1\u001b[0m\u001b[0;34m)\u001b[0m\u001b[0;34m.\u001b[0m\u001b[0mtoordinal\u001b[0m\u001b[0;34m(\u001b[0m\u001b[0;34m)\u001b[0m \u001b[0;34m-\u001b[0m \u001b[0m_EPOCH_ORD\u001b[0m \u001b[0;34m+\u001b[0m \u001b[0mday\u001b[0m \u001b[0;34m-\u001b[0m \u001b[0;36m1\u001b[0m\u001b[0;34m\u001b[0m\u001b[0m\n\u001b[1;32m    614\u001b[0m     \u001b[0mhours\u001b[0m \u001b[0;34m=\u001b[0m \u001b[0mdays\u001b[0m\u001b[0;34m*\u001b[0m\u001b[0;36m24\u001b[0m \u001b[0;34m+\u001b[0m \u001b[0mhour\u001b[0m\u001b[0;34m\u001b[0m\u001b[0m\n",
      "\u001b[0;31mTypeError\u001b[0m: 'datetime.datetime' object has no attribute '__getitem__'"
     ]
    }
   ],
   "source": [
    "dt2ts(ts2dt(tmp['Timestamp'].values))"
   ]
  },
  {
   "cell_type": "code",
   "execution_count": 137,
   "metadata": {
    "collapsed": false
   },
   "outputs": [
    {
     "data": {
      "text/plain": [
       "False"
      ]
     },
     "execution_count": 137,
     "metadata": {},
     "output_type": "execute_result"
    }
   ],
   "source": [
    "isinstance(tmp['Timestamp'].values[0], datetime.datetime)"
   ]
  },
  {
   "cell_type": "code",
   "execution_count": 139,
   "metadata": {
    "collapsed": false
   },
   "outputs": [
    {
     "data": {
      "text/plain": [
       "datetime.datetime"
      ]
     },
     "execution_count": 139,
     "metadata": {},
     "output_type": "execute_result"
    }
   ],
   "source": [
    "type(datetime.datetime(2013, 10, 9, 14, 6, 17))"
   ]
  },
  {
   "cell_type": "code",
   "execution_count": 140,
   "metadata": {
    "collapsed": false
   },
   "outputs": [
    {
     "data": {
      "text/plain": [
       "True"
      ]
     },
     "execution_count": 140,
     "metadata": {},
     "output_type": "execute_result"
    }
   ],
   "source": [
    "isinstance(datetime.datetime(2013, 10, 9, 14, 6, 17), datetime.datetime)"
   ]
  },
  {
   "cell_type": "code",
   "execution_count": 148,
   "metadata": {
    "collapsed": false
   },
   "outputs": [
    {
     "data": {
      "text/plain": [
       "[datetime.datetime(2013, 10, 9, 14, 6, 17),\n",
       " datetime.datetime(2013, 10, 9, 14, 6, 30),\n",
       " datetime.datetime(2013, 10, 9, 14, 6, 45),\n",
       " datetime.datetime(2013, 10, 9, 14, 7),\n",
       " datetime.datetime(2013, 10, 9, 14, 7, 15),\n",
       " datetime.datetime(2013, 10, 9, 14, 7, 18),\n",
       " datetime.datetime(2013, 10, 9, 14, 7, 30),\n",
       " datetime.datetime(2013, 10, 9, 14, 7, 31),\n",
       " datetime.datetime(2013, 10, 9, 14, 7, 44),\n",
       " datetime.datetime(2013, 10, 9, 14, 7, 46)]"
      ]
     },
     "execution_count": 148,
     "metadata": {},
     "output_type": "execute_result"
    }
   ],
   "source": [
    "ts2dt(tmp['Timestamp'].values)"
   ]
  },
  {
   "cell_type": "code",
   "execution_count": null,
   "metadata": {
    "collapsed": true
   },
   "outputs": [],
   "source": []
  }
 ],
 "metadata": {
  "kernelspec": {
   "display_name": "Python 2",
   "language": "python",
   "name": "python2"
  },
  "language_info": {
   "codemirror_mode": {
    "name": "ipython",
    "version": 2
   },
   "file_extension": ".py",
   "mimetype": "text/x-python",
   "name": "python",
   "nbconvert_exporter": "python",
   "pygments_lexer": "ipython2",
   "version": "2.7.12"
  }
 },
 "nbformat": 4,
 "nbformat_minor": 2
}
